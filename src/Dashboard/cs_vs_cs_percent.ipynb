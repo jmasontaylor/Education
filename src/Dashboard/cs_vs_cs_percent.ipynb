{
 "cells": [
  {
   "cell_type": "code",
   "execution_count": 1,
   "metadata": {},
   "outputs": [
    {
     "data": {
      "text/html": [
       "<div class=\"bk-root\">\n",
       "        <a href=\"https://bokeh.org\" target=\"_blank\" class=\"bk-logo bk-logo-small bk-logo-notebook\"></a>\n",
       "        <span id=\"1002\">Loading BokehJS ...</span>\n",
       "    </div>\n"
      ]
     },
     "metadata": {},
     "output_type": "display_data"
    },
    {
     "data": {
      "application/javascript": "(function(root) {\n  function now() {\n    return new Date();\n  }\n\n  const force = true;\n\n  if (typeof root._bokeh_onload_callbacks === \"undefined\" || force === true) {\n    root._bokeh_onload_callbacks = [];\n    root._bokeh_is_loading = undefined;\n  }\n\nconst JS_MIME_TYPE = 'application/javascript';\n  const HTML_MIME_TYPE = 'text/html';\n  const EXEC_MIME_TYPE = 'application/vnd.bokehjs_exec.v0+json';\n  const CLASS_NAME = 'output_bokeh rendered_html';\n\n  /**\n   * Render data to the DOM node\n   */\n  function render(props, node) {\n    const script = document.createElement(\"script\");\n    node.appendChild(script);\n  }\n\n  /**\n   * Handle when an output is cleared or removed\n   */\n  function handleClearOutput(event, handle) {\n    const cell = handle.cell;\n\n    const id = cell.output_area._bokeh_element_id;\n    const server_id = cell.output_area._bokeh_server_id;\n    // Clean up Bokeh references\n    if (id != null && id in Bokeh.index) {\n      Bokeh.index[id].model.document.clear();\n      delete Bokeh.index[id];\n    }\n\n    if (server_id !== undefined) {\n      // Clean up Bokeh references\n      const cmd_clean = \"from bokeh.io.state import curstate; print(curstate().uuid_to_server['\" + server_id + \"'].get_sessions()[0].document.roots[0]._id)\";\n      cell.notebook.kernel.execute(cmd_clean, {\n        iopub: {\n          output: function(msg) {\n            const id = msg.content.text.trim();\n            if (id in Bokeh.index) {\n              Bokeh.index[id].model.document.clear();\n              delete Bokeh.index[id];\n            }\n          }\n        }\n      });\n      // Destroy server and session\n      const cmd_destroy = \"import bokeh.io.notebook as ion; ion.destroy_server('\" + server_id + \"')\";\n      cell.notebook.kernel.execute(cmd_destroy);\n    }\n  }\n\n  /**\n   * Handle when a new output is added\n   */\n  function handleAddOutput(event, handle) {\n    const output_area = handle.output_area;\n    const output = handle.output;\n\n    // limit handleAddOutput to display_data with EXEC_MIME_TYPE content only\n    if ((output.output_type != \"display_data\") || (!Object.prototype.hasOwnProperty.call(output.data, EXEC_MIME_TYPE))) {\n      return\n    }\n\n    const toinsert = output_area.element.find(\".\" + CLASS_NAME.split(' ')[0]);\n\n    if (output.metadata[EXEC_MIME_TYPE][\"id\"] !== undefined) {\n      toinsert[toinsert.length - 1].firstChild.textContent = output.data[JS_MIME_TYPE];\n      // store reference to embed id on output_area\n      output_area._bokeh_element_id = output.metadata[EXEC_MIME_TYPE][\"id\"];\n    }\n    if (output.metadata[EXEC_MIME_TYPE][\"server_id\"] !== undefined) {\n      const bk_div = document.createElement(\"div\");\n      bk_div.innerHTML = output.data[HTML_MIME_TYPE];\n      const script_attrs = bk_div.children[0].attributes;\n      for (let i = 0; i < script_attrs.length; i++) {\n        toinsert[toinsert.length - 1].firstChild.setAttribute(script_attrs[i].name, script_attrs[i].value);\n        toinsert[toinsert.length - 1].firstChild.textContent = bk_div.children[0].textContent\n      }\n      // store reference to server id on output_area\n      output_area._bokeh_server_id = output.metadata[EXEC_MIME_TYPE][\"server_id\"];\n    }\n  }\n\n  function register_renderer(events, OutputArea) {\n\n    function append_mime(data, metadata, element) {\n      // create a DOM node to render to\n      const toinsert = this.create_output_subarea(\n        metadata,\n        CLASS_NAME,\n        EXEC_MIME_TYPE\n      );\n      this.keyboard_manager.register_events(toinsert);\n      // Render to node\n      const props = {data: data, metadata: metadata[EXEC_MIME_TYPE]};\n      render(props, toinsert[toinsert.length - 1]);\n      element.append(toinsert);\n      return toinsert\n    }\n\n    /* Handle when an output is cleared or removed */\n    events.on('clear_output.CodeCell', handleClearOutput);\n    events.on('delete.Cell', handleClearOutput);\n\n    /* Handle when a new output is added */\n    events.on('output_added.OutputArea', handleAddOutput);\n\n    /**\n     * Register the mime type and append_mime function with output_area\n     */\n    OutputArea.prototype.register_mime_type(EXEC_MIME_TYPE, append_mime, {\n      /* Is output safe? */\n      safe: true,\n      /* Index of renderer in `output_area.display_order` */\n      index: 0\n    });\n  }\n\n  // register the mime type if in Jupyter Notebook environment and previously unregistered\n  if (root.Jupyter !== undefined) {\n    const events = require('base/js/events');\n    const OutputArea = require('notebook/js/outputarea').OutputArea;\n\n    if (OutputArea.prototype.mime_types().indexOf(EXEC_MIME_TYPE) == -1) {\n      register_renderer(events, OutputArea);\n    }\n  }\n  if (typeof (root._bokeh_timeout) === \"undefined\" || force === true) {\n    root._bokeh_timeout = Date.now() + 5000;\n    root._bokeh_failed_load = false;\n  }\n\n  const NB_LOAD_WARNING = {'data': {'text/html':\n     \"<div style='background-color: #fdd'>\\n\"+\n     \"<p>\\n\"+\n     \"BokehJS does not appear to have successfully loaded. If loading BokehJS from CDN, this \\n\"+\n     \"may be due to a slow or bad network connection. Possible fixes:\\n\"+\n     \"</p>\\n\"+\n     \"<ul>\\n\"+\n     \"<li>re-rerun `output_notebook()` to attempt to load from CDN again, or</li>\\n\"+\n     \"<li>use INLINE resources instead, as so:</li>\\n\"+\n     \"</ul>\\n\"+\n     \"<code>\\n\"+\n     \"from bokeh.resources import INLINE\\n\"+\n     \"output_notebook(resources=INLINE)\\n\"+\n     \"</code>\\n\"+\n     \"</div>\"}};\n\n  function display_loaded() {\n    const el = document.getElementById(\"1002\");\n    if (el != null) {\n      el.textContent = \"BokehJS is loading...\";\n    }\n    if (root.Bokeh !== undefined) {\n      if (el != null) {\n        el.textContent = \"BokehJS \" + root.Bokeh.version + \" successfully loaded.\";\n      }\n    } else if (Date.now() < root._bokeh_timeout) {\n      setTimeout(display_loaded, 100)\n    }\n  }\n\n  function run_callbacks() {\n    try {\n      root._bokeh_onload_callbacks.forEach(function(callback) {\n        if (callback != null)\n          callback();\n      });\n    } finally {\n      delete root._bokeh_onload_callbacks\n    }\n    console.debug(\"Bokeh: all callbacks have finished\");\n  }\n\n  function load_libs(css_urls, js_urls, callback) {\n    if (css_urls == null) css_urls = [];\n    if (js_urls == null) js_urls = [];\n\n    root._bokeh_onload_callbacks.push(callback);\n    if (root._bokeh_is_loading > 0) {\n      console.debug(\"Bokeh: BokehJS is being loaded, scheduling callback at\", now());\n      return null;\n    }\n    if (js_urls == null || js_urls.length === 0) {\n      run_callbacks();\n      return null;\n    }\n    console.debug(\"Bokeh: BokehJS not loaded, scheduling load and callback at\", now());\n    root._bokeh_is_loading = css_urls.length + js_urls.length;\n\n    function on_load() {\n      root._bokeh_is_loading--;\n      if (root._bokeh_is_loading === 0) {\n        console.debug(\"Bokeh: all BokehJS libraries/stylesheets loaded\");\n        run_callbacks()\n      }\n    }\n\n    function on_error(url) {\n      console.error(\"failed to load \" + url);\n    }\n\n    for (let i = 0; i < css_urls.length; i++) {\n      const url = css_urls[i];\n      const element = document.createElement(\"link\");\n      element.onload = on_load;\n      element.onerror = on_error.bind(null, url);\n      element.rel = \"stylesheet\";\n      element.type = \"text/css\";\n      element.href = url;\n      console.debug(\"Bokeh: injecting link tag for BokehJS stylesheet: \", url);\n      document.body.appendChild(element);\n    }\n\n    for (let i = 0; i < js_urls.length; i++) {\n      const url = js_urls[i];\n      const element = document.createElement('script');\n      element.onload = on_load;\n      element.onerror = on_error.bind(null, url);\n      element.async = false;\n      element.src = url;\n      console.debug(\"Bokeh: injecting script tag for BokehJS library: \", url);\n      document.head.appendChild(element);\n    }\n  };\n\n  function inject_raw_css(css) {\n    const element = document.createElement(\"style\");\n    element.appendChild(document.createTextNode(css));\n    document.body.appendChild(element);\n  }\n\n  const js_urls = [\"https://cdn.bokeh.org/bokeh/release/bokeh-2.4.3.min.js\", \"https://cdn.bokeh.org/bokeh/release/bokeh-gl-2.4.3.min.js\", \"https://cdn.bokeh.org/bokeh/release/bokeh-widgets-2.4.3.min.js\", \"https://cdn.bokeh.org/bokeh/release/bokeh-tables-2.4.3.min.js\", \"https://cdn.bokeh.org/bokeh/release/bokeh-mathjax-2.4.3.min.js\"];\n  const css_urls = [];\n\n  const inline_js = [    function(Bokeh) {\n      Bokeh.set_log_level(\"info\");\n    },\nfunction(Bokeh) {\n    }\n  ];\n\n  function run_inline_js() {\n    if (root.Bokeh !== undefined || force === true) {\n          for (let i = 0; i < inline_js.length; i++) {\n      inline_js[i].call(root, root.Bokeh);\n    }\nif (force === true) {\n        display_loaded();\n      }} else if (Date.now() < root._bokeh_timeout) {\n      setTimeout(run_inline_js, 100);\n    } else if (!root._bokeh_failed_load) {\n      console.log(\"Bokeh: BokehJS failed to load within specified timeout.\");\n      root._bokeh_failed_load = true;\n    } else if (force !== true) {\n      const cell = $(document.getElementById(\"1002\")).parents('.cell').data().cell;\n      cell.output_area.append_execute_result(NB_LOAD_WARNING)\n    }\n  }\n\n  if (root._bokeh_is_loading === 0) {\n    console.debug(\"Bokeh: BokehJS loaded, going straight to plotting\");\n    run_inline_js();\n  } else {\n    load_libs(css_urls, js_urls, function() {\n      console.debug(\"Bokeh: BokehJS plotting callback run at\", now());\n      run_inline_js();\n    });\n  }\n}(window));",
      "application/vnd.bokehjs_load.v0+json": ""
     },
     "metadata": {},
     "output_type": "display_data"
    }
   ],
   "source": [
    "\n",
    "import pandas as pd\n",
    "from matplotlib import pyplot as plt\n",
    "from glob import glob\n",
    "from scipy.stats import mannwhitneyu, ttest_ind\n",
    "from tqdm import tqdm\n",
    "import numpy as np \n",
    "import math\n",
    "import seaborn as sns\n",
    "from bokeh.io import output_notebook, show\n",
    "from bokeh.plotting import figure\n",
    "from bokeh.models import Range1d\n",
    "output_notebook()\n",
    "%matplotlib inline\n",
    "def process_unis():\n",
    "    unis = pd.read_csv('../../data/IPEDS/university_info/hd2021.csv', encoding='cp1252')\n",
    "    ## Preprocessing meta-data files\n",
    "    ### Updating names to match in rankings  \n",
    "    unis.loc[unis['IALIAS']=='Virginia Tech', 'INSTNM'] = 'Virginia Tech'\n",
    "    unis.loc[unis['INSTNM']=='University of Illinois Urbana-Champaign', 'INSTNM'] = 'University of Illinois at Urbana-Champaign'\n",
    "    unis.loc[(unis['INSTNM']==\"St. John's College\") & (unis['STABBR']=='MD'), 'INSTNM'] = \"St. John's College - MD\"\n",
    "    unis.loc[(unis['INSTNM']==\"St. John's College\") & (unis['STABBR']=='NM'), 'INSTNM'] = \"St. John's College - NM\"\n",
    "    unis.loc[unis['INSTNM']==\"William & Mary\", 'INSTNM'] = \"College of William and Mary\"\n",
    "    unis.loc[(unis['INSTNM']==\"Brigham Young University\") & (unis['CITY']=='Provo'), 'INSTNM'] = \"Brigham Young University-Provo\"\n",
    "    unis.loc[(unis['INSTNM']==\"The University of the South\") & (unis['CITY']=='Sewanee'), 'INSTNM'] = \"Sewanee - The University of the South\"\n",
    "        \n",
    "    return unis\n",
    "\n",
    "def process_completions(year):\n",
    "    completions = pd.read_csv('../../data/IPEDS/completions/c%s_a.csv' % year)\n",
    "    return completions\n",
    "# hard coded it because of assignment errors"
   ]
  },
  {
   "cell_type": "code",
   "execution_count": 9,
   "metadata": {},
   "outputs": [],
   "source": [
    "def startup():\n",
    "    all_unis = {}\n",
    "    all_completions = {}\n",
    "    for year in range(2008, 2022):\n",
    "        all_unis[year] = process_unis()\n",
    "        all_completions[year] = process_completions(year)\n",
    "    cols = ['UNITID', 'CTOTALW', 'CBKAAT', 'CHISPT']\n",
    "    colors = ['blue', 'green', 'red', 'orange', 'purple', 'navy']\n",
    "    return all_unis, all_completions, cols, colors"
   ]
  },
  {
   "cell_type": "code",
   "execution_count": 10,
   "metadata": {},
   "outputs": [],
   "source": [
    "def region_processing(uni_data, completion_data, region):\n",
    "    uni_boolmap = uni_data['OBEREG'] == region\n",
    "    region_unis = uni_data[uni_boolmap]\n",
    "    unitids = set(region_unis['UNITID'])\n",
    "    completion_boolmap = completion_data['UNITID'].apply(lambda x: x in unitids)\n",
    "    region_data = completion_data[completion_boolmap]\n",
    "    return region_data, region_unis"
   ]
  },
  {
   "cell_type": "code",
   "execution_count": 11,
   "metadata": {},
   "outputs": [],
   "source": [
    "def make_years(completions, unis, start, end):\n",
    "    years = {}\n",
    "    for year in range(start, end + 1):\n",
    "        year_completions, year_unis = unis[year], completions[year]\n",
    "        years[year] = [year_completions, year_unis]\n",
    "    return years"
   ]
  },
  {
   "cell_type": "code",
   "execution_count": 12,
   "metadata": {},
   "outputs": [],
   "source": [
    "# data is the dataframe already boolmapped with the proper data\n",
    "def groupTotals(years):\n",
    "    allStateCsData  = []\n",
    "    allStateNonCsData = []\n",
    "    for year in years:\n",
    "        unis, data = years[year]\n",
    "        csMerge, nonCsMerge = csVsNonCs(data, unis)\n",
    "        csMerge['year'] = year\n",
    "        nonCsMerge['year'] = year\n",
    "        allStateCsData.append(csMerge)\n",
    "        allStateNonCsData.append(nonCsMerge)\n",
    "    allStateCsData = pd.concat(allStateCsData)\n",
    "    allStateNonCsData = pd.concat(allStateNonCsData)\n",
    "    return allStateCsData, allStateNonCsData\n",
    "    \n",
    "        \n",
    "        \n",
    "def csVsNonCs(data, unis):\n",
    "    csBoolmap = data['CIPCODE'].apply(lambda x : x < 12 and x >= 11)\n",
    "    cs = data[csBoolmap]\n",
    "    csSum = cs.groupby('UNITID').sum()\n",
    "    csSum = csSum.reset_index()\n",
    "    uniqueIds = set(csSum['UNITID'].unique())\n",
    "    nonCs = data[data.apply(lambda x: x['UNITID'] in uniqueIds, axis = 1)]\n",
    "    nonCsSum = nonCs.groupby('UNITID').sum().reset_index()\n",
    "    cols = ['UNITID', 'CTOTALW', 'CBKAAT', 'CHISPT', 'CTOTALT']\n",
    "    csMerge = pd.merge(csSum[cols], unis[['UNITID', 'LONGITUD', 'LATITUDE']], on = 'UNITID', how='left')\n",
    "    nonCsMerge = pd.merge(nonCsSum[cols], unis[['UNITID', 'LONGITUD', 'LATITUDE']], on = 'UNITID', how='left')\n",
    "    return csMerge, nonCsMerge"
   ]
  },
  {
   "cell_type": "code",
   "execution_count": 13,
   "metadata": {},
   "outputs": [],
   "source": [
    "def make_percents(cs, nonCs):\n",
    "    cs = cs.set_index(['UNITID', 'year', 'LONGITUD', 'LATITUDE'])\n",
    "    nonCs = nonCs.set_index(['UNITID', 'year', 'LONGITUD', 'LATITUDE'])\n",
    "    cs = cs.apply(lambda x: x / x['CTOTALT'], axis = 1)\n",
    "    nonCs = nonCs.apply(lambda x: x / x['CTOTALT'], axis = 1)\n",
    "    cs = cs.reset_index()\n",
    "    nonCs = nonCs.reset_index()\n",
    "    return cs, nonCs"
   ]
  },
  {
   "cell_type": "code",
   "execution_count": 14,
   "metadata": {},
   "outputs": [],
   "source": [
    "def make_groups(cs, nonCs):\n",
    "    return cs.groupby('year').sum().reset_index(), nonCs.groupby('year').sum().reset_index()\n"
   ]
  },
  {
   "cell_type": "code",
   "execution_count": 15,
   "metadata": {},
   "outputs": [],
   "source": [
    "def cs_nonCs_difference(cs, nonCs):\n",
    "    cs = cs.set_index(['LONGITUD', 'LATITUDE', 'UNITID', 'year'])\n",
    "    nonCs = nonCs.set_index(['LONGITUD', 'LATITUDE', 'UNITID', 'year'])\n",
    "    difference = cs - nonCs\n",
    "    difference.columns = ['d_%s' % col for col in difference.columns]\n",
    "        \n",
    "    difference = difference.reset_index()\n",
    "    return difference"
   ]
  },
  {
   "cell_type": "code",
   "execution_count": 16,
   "metadata": {},
   "outputs": [],
   "source": [
    "def get_avg(data):\n",
    "    data = data.groupby('UNITID').mean()\n",
    "    return data.reset_index()"
   ]
  },
  {
   "cell_type": "code",
   "execution_count": 17,
   "metadata": {},
   "outputs": [],
   "source": [
    "def make_correlation_df(data, unis, demo):\n",
    "    correlation_df_merge = pd.merge(data[['UNITID', 'd_CTOTALW', 'd_CBKAAT', 'd_CHISPT']], unis, on='UNITID')\n",
    "    non_differences = correlation_df_merge.drop(['d_CTOTALW', 'd_CBKAAT', 'd_CHISPT'], axis=1)\n",
    "    correlations_df = non_differences.corrwith(correlation_df_merge[demo])\n",
    "    #correlations_df = correlation_df_merge[['d_CTOTALW', 'd_CBKAAT', 'd_CHISPT', 'd_CAIANT']].corrwith(non_differences, axis=0)\n",
    "    return correlations_df.dropna()\n",
    "    \n"
   ]
  },
  {
   "cell_type": "code",
   "execution_count": 48,
   "metadata": {},
   "outputs": [],
   "source": [
    "def csPercentGraph(cs, cols, colors):\n",
    "    demos = ['Women', 'Black', 'Hispanic']\n",
    "    p=figure(width=800, height=400, title='Percentage of Minorities in CS')\n",
    "    p.xaxis.axis_label='Year'\n",
    "    p.yaxis.axis_label='Percentage'\n",
    "    for i, demo in enumerate(cols[1:]):\n",
    "        p.line(cs['year'], cs[demo], legend_label=demos[i], line_color=colors[i])\n",
    "    p.legend.location='center'\n",
    "    p.add_layout(p.legend[0], 'right')\n",
    "    return p\n",
    "    "
   ]
  },
  {
   "cell_type": "code",
   "execution_count": 49,
   "metadata": {},
   "outputs": [],
   "source": [
    "def nonCsPercentGraph(nonCs, cols, colors):\n",
    "    demos = ['Women', 'Black', 'Hispanic']\n",
    "    p=figure(width=800, height=400, title='Percentage of Minorities in Non-CS')\n",
    "    for i, demo in enumerate(cols[1:]):\n",
    "        p.line(nonCs['year'], nonCs[demo], legend_label=demos[i], line_color=colors[i])\n",
    "    p.legend.location='center'\n",
    "    p.add_layout(p.legend[0], 'right')\n",
    "    return p"
   ]
  },
  {
   "cell_type": "code",
   "execution_count": 50,
   "metadata": {},
   "outputs": [],
   "source": [
    "def run():\n",
    "    all_unis, all_completion, cols, colors = startup()\n",
    "    years = make_years(all_completion, all_unis, 2011, 2021)\n",
    "    csTotal, nonCsTotal = groupTotals(years)\n",
    "    csTotal, nonCsTotal = make_groups(csTotal, nonCsTotal)\n",
    "    csPercent, nonCsPercent = make_percents(csTotal, nonCsTotal)\n",
    "    cs_graph = csPercentGraph(csPercent, cols, colors)\n",
    "    nonCs_graph = nonCsPercentGraph(nonCsPercent, cols, colors)\n",
    "    show(cs_graph)\n",
    "    show(nonCs_graph)\n",
    "    \n",
    "    "
   ]
  },
  {
   "cell_type": "code",
   "execution_count": 51,
   "metadata": {},
   "outputs": [
    {
     "data": {
      "text/html": [
       "\n",
       "  <div class=\"bk-root\" id=\"cf51f8e5-1c9b-4184-b33b-b12f24f0029b\" data-root-id=\"2918\"></div>\n"
      ]
     },
     "metadata": {},
     "output_type": "display_data"
    },
    {
     "data": {
      "application/javascript": "(function(root) {\n  function embed_document(root) {\n  const docs_json = {\"94ff4cbb-df65-400b-8c32-87720f46428e\":{\"defs\":[],\"roots\":{\"references\":[{\"attributes\":{\"below\":[{\"id\":\"2929\"}],\"center\":[{\"id\":\"2932\"},{\"id\":\"2936\"},{\"id\":\"2967\"}],\"height\":400,\"left\":[{\"id\":\"2933\"}],\"renderers\":[{\"id\":\"2955\"},{\"id\":\"2973\"},{\"id\":\"2992\"}],\"right\":[{\"id\":\"2967\"}],\"title\":{\"id\":\"2919\"},\"toolbar\":{\"id\":\"2944\"},\"width\":800,\"x_range\":{\"id\":\"2921\"},\"x_scale\":{\"id\":\"2925\"},\"y_range\":{\"id\":\"2923\"},\"y_scale\":{\"id\":\"2927\"}},\"id\":\"2918\",\"subtype\":\"Figure\",\"type\":\"Plot\"},{\"attributes\":{\"axis\":{\"id\":\"2933\"},\"coordinates\":null,\"dimension\":1,\"group\":null,\"ticker\":null},\"id\":\"2936\",\"type\":\"Grid\"},{\"attributes\":{},\"id\":\"2964\",\"type\":\"UnionRenderers\"},{\"attributes\":{\"overlay\":{\"id\":\"2943\"}},\"id\":\"2939\",\"type\":\"BoxZoomTool\"},{\"attributes\":{\"data\":{\"x\":[2011,2012,2013,2014,2015,2016,2017,2018,2019,2020,2021],\"y\":{\"__ndarray__\":\"2hKauQZItz9VPYHopQe4P5VxHNaujrk/vIgaB0DzuT/Hv0+nxkm6Pw8roLIPI7k/adN857dluT/X8D5vABS6P9mz5YmxOrs/S5qEhZO2uz/7u5YgdH28Pw==\",\"dtype\":\"float64\",\"order\":\"little\",\"shape\":[11]}},\"selected\":{\"id\":\"3006\"},\"selection_policy\":{\"id\":\"3005\"}},\"id\":\"2988\",\"type\":\"ColumnDataSource\"},{\"attributes\":{},\"id\":\"2938\",\"type\":\"WheelZoomTool\"},{\"attributes\":{\"label\":{\"value\":\"Hispanic\"},\"renderers\":[{\"id\":\"2992\"}]},\"id\":\"3008\",\"type\":\"LegendItem\"},{\"attributes\":{},\"id\":\"2985\",\"type\":\"Selection\"},{\"attributes\":{\"coordinates\":null,\"group\":null,\"items\":[{\"id\":\"2968\"},{\"id\":\"2987\"},{\"id\":\"3008\"}],\"location\":\"center\"},\"id\":\"2967\",\"type\":\"Legend\"},{\"attributes\":{\"source\":{\"id\":\"2951\"}},\"id\":\"2956\",\"type\":\"CDSView\"},{\"attributes\":{\"axis_label\":\"Percentage\",\"coordinates\":null,\"formatter\":{\"id\":\"2959\"},\"group\":null,\"major_label_policy\":{\"id\":\"2960\"},\"ticker\":{\"id\":\"2934\"}},\"id\":\"2933\",\"type\":\"LinearAxis\"},{\"attributes\":{\"line_alpha\":0.2,\"line_color\":\"green\",\"x\":{\"field\":\"x\"},\"y\":{\"field\":\"y\"}},\"id\":\"2972\",\"type\":\"Line\"},{\"attributes\":{\"line_color\":\"blue\",\"x\":{\"field\":\"x\"},\"y\":{\"field\":\"y\"}},\"id\":\"2952\",\"type\":\"Line\"},{\"attributes\":{\"line_alpha\":0.2,\"line_color\":\"blue\",\"x\":{\"field\":\"x\"},\"y\":{\"field\":\"y\"}},\"id\":\"2954\",\"type\":\"Line\"},{\"attributes\":{},\"id\":\"3005\",\"type\":\"UnionRenderers\"},{\"attributes\":{\"bottom_units\":\"screen\",\"coordinates\":null,\"fill_alpha\":0.5,\"fill_color\":\"lightgrey\",\"group\":null,\"left_units\":\"screen\",\"level\":\"overlay\",\"line_alpha\":1.0,\"line_color\":\"black\",\"line_dash\":[4,4],\"line_width\":2,\"right_units\":\"screen\",\"syncable\":false,\"top_units\":\"screen\"},\"id\":\"2943\",\"type\":\"BoxAnnotation\"},{\"attributes\":{\"line_alpha\":0.1,\"line_color\":\"blue\",\"x\":{\"field\":\"x\"},\"y\":{\"field\":\"y\"}},\"id\":\"2953\",\"type\":\"Line\"},{\"attributes\":{},\"id\":\"2965\",\"type\":\"Selection\"},{\"attributes\":{\"tools\":[{\"id\":\"2937\"},{\"id\":\"2938\"},{\"id\":\"2939\"},{\"id\":\"2940\"},{\"id\":\"2941\"},{\"id\":\"2942\"}]},\"id\":\"2944\",\"type\":\"Toolbar\"},{\"attributes\":{\"data\":{\"x\":[2011,2012,2013,2014,2015,2016,2017,2018,2019,2020,2021],\"y\":{\"__ndarray__\":\"wSsGPDAZzj8L5s2LFFTNP+kEpDaI3Mw/k9tUkNwqzT/iruU1ccbNP7sMvrEmX84/d+c523ekzj83bY2RNYnOP6aPKmiZ/M4/bQqOOLaFzz+w30D97jHQPw==\",\"dtype\":\"float64\",\"order\":\"little\",\"shape\":[11]}},\"selected\":{\"id\":\"2965\"},\"selection_policy\":{\"id\":\"2964\"}},\"id\":\"2951\",\"type\":\"ColumnDataSource\"},{\"attributes\":{},\"id\":\"2942\",\"type\":\"HelpTool\"},{\"attributes\":{},\"id\":\"2925\",\"type\":\"LinearScale\"},{\"attributes\":{},\"id\":\"2959\",\"type\":\"BasicTickFormatter\"},{\"attributes\":{},\"id\":\"2941\",\"type\":\"ResetTool\"},{\"attributes\":{\"label\":{\"value\":\"Black\"},\"renderers\":[{\"id\":\"2973\"}]},\"id\":\"2987\",\"type\":\"LegendItem\"},{\"attributes\":{\"axis_label\":\"Year\",\"coordinates\":null,\"formatter\":{\"id\":\"2962\"},\"group\":null,\"major_label_policy\":{\"id\":\"2963\"},\"ticker\":{\"id\":\"2930\"}},\"id\":\"2929\",\"type\":\"LinearAxis\"},{\"attributes\":{},\"id\":\"3006\",\"type\":\"Selection\"},{\"attributes\":{},\"id\":\"2963\",\"type\":\"AllLabels\"},{\"attributes\":{},\"id\":\"2940\",\"type\":\"SaveTool\"},{\"attributes\":{},\"id\":\"2927\",\"type\":\"LinearScale\"},{\"attributes\":{\"line_alpha\":0.2,\"line_color\":\"red\",\"x\":{\"field\":\"x\"},\"y\":{\"field\":\"y\"}},\"id\":\"2991\",\"type\":\"Line\"},{\"attributes\":{},\"id\":\"2923\",\"type\":\"DataRange1d\"},{\"attributes\":{\"line_alpha\":0.1,\"line_color\":\"green\",\"x\":{\"field\":\"x\"},\"y\":{\"field\":\"y\"}},\"id\":\"2971\",\"type\":\"Line\"},{\"attributes\":{\"coordinates\":null,\"data_source\":{\"id\":\"2988\"},\"glyph\":{\"id\":\"2989\"},\"group\":null,\"hover_glyph\":null,\"muted_glyph\":{\"id\":\"2991\"},\"nonselection_glyph\":{\"id\":\"2990\"},\"view\":{\"id\":\"2993\"}},\"id\":\"2992\",\"type\":\"GlyphRenderer\"},{\"attributes\":{\"line_color\":\"green\",\"x\":{\"field\":\"x\"},\"y\":{\"field\":\"y\"}},\"id\":\"2970\",\"type\":\"Line\"},{\"attributes\":{},\"id\":\"2934\",\"type\":\"BasicTicker\"},{\"attributes\":{\"source\":{\"id\":\"2988\"}},\"id\":\"2993\",\"type\":\"CDSView\"},{\"attributes\":{},\"id\":\"2962\",\"type\":\"BasicTickFormatter\"},{\"attributes\":{},\"id\":\"2937\",\"type\":\"PanTool\"},{\"attributes\":{\"label\":{\"value\":\"Women\"},\"renderers\":[{\"id\":\"2955\"}]},\"id\":\"2968\",\"type\":\"LegendItem\"},{\"attributes\":{\"coordinates\":null,\"data_source\":{\"id\":\"2951\"},\"glyph\":{\"id\":\"2952\"},\"group\":null,\"hover_glyph\":null,\"muted_glyph\":{\"id\":\"2954\"},\"nonselection_glyph\":{\"id\":\"2953\"},\"view\":{\"id\":\"2956\"}},\"id\":\"2955\",\"type\":\"GlyphRenderer\"},{\"attributes\":{},\"id\":\"2921\",\"type\":\"DataRange1d\"},{\"attributes\":{\"coordinates\":null,\"group\":null,\"text\":\"Percentage of Minorities in CS\"},\"id\":\"2919\",\"type\":\"Title\"},{\"attributes\":{\"line_color\":\"red\",\"x\":{\"field\":\"x\"},\"y\":{\"field\":\"y\"}},\"id\":\"2989\",\"type\":\"Line\"},{\"attributes\":{},\"id\":\"2930\",\"type\":\"BasicTicker\"},{\"attributes\":{},\"id\":\"2984\",\"type\":\"UnionRenderers\"},{\"attributes\":{},\"id\":\"2960\",\"type\":\"AllLabels\"},{\"attributes\":{\"line_alpha\":0.1,\"line_color\":\"red\",\"x\":{\"field\":\"x\"},\"y\":{\"field\":\"y\"}},\"id\":\"2990\",\"type\":\"Line\"},{\"attributes\":{\"coordinates\":null,\"data_source\":{\"id\":\"2969\"},\"glyph\":{\"id\":\"2970\"},\"group\":null,\"hover_glyph\":null,\"muted_glyph\":{\"id\":\"2972\"},\"nonselection_glyph\":{\"id\":\"2971\"},\"view\":{\"id\":\"2974\"}},\"id\":\"2973\",\"type\":\"GlyphRenderer\"},{\"attributes\":{\"axis\":{\"id\":\"2929\"},\"coordinates\":null,\"group\":null,\"ticker\":null},\"id\":\"2932\",\"type\":\"Grid\"},{\"attributes\":{\"data\":{\"x\":[2011,2012,2013,2014,2015,2016,2017,2018,2019,2020,2021],\"y\":{\"__ndarray__\":\"Ug4pLPigvz+4quhfJ469P5nHaV/A574/+6SgwZl3vj8PxFEfrOG8P4jk/iePjLg/oKPtx5Z0tz99/NmRpo+3P4IofzwLCbg/IexG56/gtz8If7lsah+5Pw==\",\"dtype\":\"float64\",\"order\":\"little\",\"shape\":[11]}},\"selected\":{\"id\":\"2985\"},\"selection_policy\":{\"id\":\"2984\"}},\"id\":\"2969\",\"type\":\"ColumnDataSource\"},{\"attributes\":{\"source\":{\"id\":\"2969\"}},\"id\":\"2974\",\"type\":\"CDSView\"}],\"root_ids\":[\"2918\"]},\"title\":\"Bokeh Application\",\"version\":\"2.4.3\"}};\n  const render_items = [{\"docid\":\"94ff4cbb-df65-400b-8c32-87720f46428e\",\"root_ids\":[\"2918\"],\"roots\":{\"2918\":\"cf51f8e5-1c9b-4184-b33b-b12f24f0029b\"}}];\n  root.Bokeh.embed.embed_items_notebook(docs_json, render_items);\n  }\n  if (root.Bokeh !== undefined) {\n    embed_document(root);\n  } else {\n    let attempts = 0;\n    const timer = setInterval(function(root) {\n      if (root.Bokeh !== undefined) {\n        clearInterval(timer);\n        embed_document(root);\n      } else {\n        attempts++;\n        if (attempts > 100) {\n          clearInterval(timer);\n          console.log(\"Bokeh: ERROR: Unable to run BokehJS code because BokehJS library is missing\");\n        }\n      }\n    }, 10, root)\n  }\n})(window);",
      "application/vnd.bokehjs_exec.v0+json": ""
     },
     "metadata": {
      "application/vnd.bokehjs_exec.v0+json": {
       "id": "2918"
      }
     },
     "output_type": "display_data"
    },
    {
     "data": {
      "text/html": [
       "\n",
       "  <div class=\"bk-root\" id=\"3eb7d700-e750-4e50-96dc-9848bf774dac\" data-root-id=\"3009\"></div>\n"
      ]
     },
     "metadata": {},
     "output_type": "display_data"
    },
    {
     "data": {
      "application/javascript": "(function(root) {\n  function embed_document(root) {\n  const docs_json = {\"45a0c2aa-e85d-46ec-8284-f325b7abb0ed\":{\"defs\":[],\"roots\":{\"references\":[{\"attributes\":{\"below\":[{\"id\":\"3020\"}],\"center\":[{\"id\":\"3023\"},{\"id\":\"3027\"},{\"id\":\"3058\"}],\"height\":400,\"left\":[{\"id\":\"3024\"}],\"renderers\":[{\"id\":\"3046\"},{\"id\":\"3064\"},{\"id\":\"3083\"}],\"right\":[{\"id\":\"3058\"}],\"title\":{\"id\":\"3010\"},\"toolbar\":{\"id\":\"3035\"},\"width\":800,\"x_range\":{\"id\":\"3012\"},\"x_scale\":{\"id\":\"3016\"},\"y_range\":{\"id\":\"3014\"},\"y_scale\":{\"id\":\"3018\"}},\"id\":\"3009\",\"subtype\":\"Figure\",\"type\":\"Plot\"},{\"attributes\":{\"line_color\":\"blue\",\"x\":{\"field\":\"x\"},\"y\":{\"field\":\"y\"}},\"id\":\"3043\",\"type\":\"Line\"},{\"attributes\":{},\"id\":\"3012\",\"type\":\"DataRange1d\"},{\"attributes\":{\"source\":{\"id\":\"3042\"}},\"id\":\"3047\",\"type\":\"CDSView\"},{\"attributes\":{\"data\":{\"x\":[2011,2012,2013,2014,2015,2016,2017,2018,2019,2020,2021],\"y\":{\"__ndarray__\":\"gDqi7Db/uz+F4YTUzQy8PyUpJUNy1Ls/Jgu0u/7tuz8LoiQjVxG8P6MIu2Q+g7s/ruUxF+o1uz9kQoKvWqq6P+Y/IBesWbo/bddj2SH8uT99WcRrxn66Pw==\",\"dtype\":\"float64\",\"order\":\"little\",\"shape\":[11]}},\"selected\":{\"id\":\"3076\"},\"selection_policy\":{\"id\":\"3075\"}},\"id\":\"3060\",\"type\":\"ColumnDataSource\"},{\"attributes\":{\"coordinates\":null,\"formatter\":{\"id\":\"3050\"},\"group\":null,\"major_label_policy\":{\"id\":\"3051\"},\"ticker\":{\"id\":\"3025\"}},\"id\":\"3024\",\"type\":\"LinearAxis\"},{\"attributes\":{\"coordinates\":null,\"data_source\":{\"id\":\"3060\"},\"glyph\":{\"id\":\"3061\"},\"group\":null,\"hover_glyph\":null,\"muted_glyph\":{\"id\":\"3063\"},\"nonselection_glyph\":{\"id\":\"3062\"},\"view\":{\"id\":\"3065\"}},\"id\":\"3064\",\"type\":\"GlyphRenderer\"},{\"attributes\":{\"coordinates\":null,\"group\":null,\"text\":\"Percentage of Minorities in Non-CS\"},\"id\":\"3010\",\"type\":\"Title\"},{\"attributes\":{},\"id\":\"3018\",\"type\":\"LinearScale\"},{\"attributes\":{\"coordinates\":null,\"group\":null,\"items\":[{\"id\":\"3059\"},{\"id\":\"3078\"},{\"id\":\"3099\"}],\"location\":\"center\"},\"id\":\"3058\",\"type\":\"Legend\"},{\"attributes\":{\"line_alpha\":0.2,\"line_color\":\"green\",\"x\":{\"field\":\"x\"},\"y\":{\"field\":\"y\"}},\"id\":\"3063\",\"type\":\"Line\"},{\"attributes\":{},\"id\":\"3014\",\"type\":\"DataRange1d\"},{\"attributes\":{\"coordinates\":null,\"data_source\":{\"id\":\"3079\"},\"glyph\":{\"id\":\"3080\"},\"group\":null,\"hover_glyph\":null,\"muted_glyph\":{\"id\":\"3082\"},\"nonselection_glyph\":{\"id\":\"3081\"},\"view\":{\"id\":\"3084\"}},\"id\":\"3083\",\"type\":\"GlyphRenderer\"},{\"attributes\":{},\"id\":\"3021\",\"type\":\"BasicTicker\"},{\"attributes\":{\"axis\":{\"id\":\"3020\"},\"coordinates\":null,\"group\":null,\"ticker\":null},\"id\":\"3023\",\"type\":\"Grid\"},{\"attributes\":{},\"id\":\"3016\",\"type\":\"LinearScale\"},{\"attributes\":{\"line_alpha\":0.1,\"line_color\":\"green\",\"x\":{\"field\":\"x\"},\"y\":{\"field\":\"y\"}},\"id\":\"3062\",\"type\":\"Line\"},{\"attributes\":{\"coordinates\":null,\"formatter\":{\"id\":\"3053\"},\"group\":null,\"major_label_policy\":{\"id\":\"3054\"},\"ticker\":{\"id\":\"3021\"}},\"id\":\"3020\",\"type\":\"LinearAxis\"},{\"attributes\":{\"line_alpha\":0.1,\"line_color\":\"blue\",\"x\":{\"field\":\"x\"},\"y\":{\"field\":\"y\"}},\"id\":\"3044\",\"type\":\"Line\"},{\"attributes\":{\"line_alpha\":0.2,\"line_color\":\"red\",\"x\":{\"field\":\"x\"},\"y\":{\"field\":\"y\"}},\"id\":\"3082\",\"type\":\"Line\"},{\"attributes\":{\"source\":{\"id\":\"3060\"}},\"id\":\"3065\",\"type\":\"CDSView\"},{\"attributes\":{},\"id\":\"3033\",\"type\":\"HelpTool\"},{\"attributes\":{\"line_color\":\"green\",\"x\":{\"field\":\"x\"},\"y\":{\"field\":\"y\"}},\"id\":\"3061\",\"type\":\"Line\"},{\"attributes\":{},\"id\":\"3050\",\"type\":\"BasicTickFormatter\"},{\"attributes\":{\"data\":{\"x\":[2011,2012,2013,2014,2015,2016,2017,2018,2019,2020,2021],\"y\":{\"__ndarray__\":\"ubtgWfQPuj+VnOa6YhK8P3wpJwiL+b0/uF3zNQu5vz9qyorWwr/AP7RXKRet58E/9Zg+yCrdwj+suvSKPNnDP//tqFtp9MQ/+doevfeoxT/IHIBDZGDGPw==\",\"dtype\":\"float64\",\"order\":\"little\",\"shape\":[11]}},\"selected\":{\"id\":\"3097\"},\"selection_policy\":{\"id\":\"3096\"}},\"id\":\"3079\",\"type\":\"ColumnDataSource\"},{\"attributes\":{\"line_alpha\":0.1,\"line_color\":\"red\",\"x\":{\"field\":\"x\"},\"y\":{\"field\":\"y\"}},\"id\":\"3081\",\"type\":\"Line\"},{\"attributes\":{\"axis\":{\"id\":\"3024\"},\"coordinates\":null,\"dimension\":1,\"group\":null,\"ticker\":null},\"id\":\"3027\",\"type\":\"Grid\"},{\"attributes\":{},\"id\":\"3051\",\"type\":\"AllLabels\"},{\"attributes\":{\"label\":{\"value\":\"Black\"},\"renderers\":[{\"id\":\"3064\"}]},\"id\":\"3078\",\"type\":\"LegendItem\"},{\"attributes\":{},\"id\":\"3025\",\"type\":\"BasicTicker\"},{\"attributes\":{\"source\":{\"id\":\"3079\"}},\"id\":\"3084\",\"type\":\"CDSView\"},{\"attributes\":{},\"id\":\"3096\",\"type\":\"UnionRenderers\"},{\"attributes\":{},\"id\":\"3075\",\"type\":\"UnionRenderers\"},{\"attributes\":{\"line_alpha\":0.2,\"line_color\":\"blue\",\"x\":{\"field\":\"x\"},\"y\":{\"field\":\"y\"}},\"id\":\"3045\",\"type\":\"Line\"},{\"attributes\":{\"line_color\":\"red\",\"x\":{\"field\":\"x\"},\"y\":{\"field\":\"y\"}},\"id\":\"3080\",\"type\":\"Line\"},{\"attributes\":{},\"id\":\"3053\",\"type\":\"BasicTickFormatter\"},{\"attributes\":{\"data\":{\"x\":[2011,2012,2013,2014,2015,2016,2017,2018,2019,2020,2021],\"y\":{\"__ndarray__\":\"LGeunMKG4j+nfNa5bI/iP0ySEpc/euI/B8VttLBg4j9Cmi/oHVbiP+DqeCbdSuI/vIR7iDlJ4j/7MlsIQkjiP611zr46YuI/OFLtOiuO4j+scT/VyOHiPw==\",\"dtype\":\"float64\",\"order\":\"little\",\"shape\":[11]}},\"selected\":{\"id\":\"3056\"},\"selection_policy\":{\"id\":\"3055\"}},\"id\":\"3042\",\"type\":\"ColumnDataSource\"},{\"attributes\":{},\"id\":\"3029\",\"type\":\"WheelZoomTool\"},{\"attributes\":{},\"id\":\"3028\",\"type\":\"PanTool\"},{\"attributes\":{\"label\":{\"value\":\"Hispanic\"},\"renderers\":[{\"id\":\"3083\"}]},\"id\":\"3099\",\"type\":\"LegendItem\"},{\"attributes\":{},\"id\":\"3076\",\"type\":\"Selection\"},{\"attributes\":{\"overlay\":{\"id\":\"3034\"}},\"id\":\"3030\",\"type\":\"BoxZoomTool\"},{\"attributes\":{},\"id\":\"3054\",\"type\":\"AllLabels\"},{\"attributes\":{},\"id\":\"3031\",\"type\":\"SaveTool\"},{\"attributes\":{},\"id\":\"3097\",\"type\":\"Selection\"},{\"attributes\":{},\"id\":\"3032\",\"type\":\"ResetTool\"},{\"attributes\":{\"bottom_units\":\"screen\",\"coordinates\":null,\"fill_alpha\":0.5,\"fill_color\":\"lightgrey\",\"group\":null,\"left_units\":\"screen\",\"level\":\"overlay\",\"line_alpha\":1.0,\"line_color\":\"black\",\"line_dash\":[4,4],\"line_width\":2,\"right_units\":\"screen\",\"syncable\":false,\"top_units\":\"screen\"},\"id\":\"3034\",\"type\":\"BoxAnnotation\"},{\"attributes\":{},\"id\":\"3055\",\"type\":\"UnionRenderers\"},{\"attributes\":{\"coordinates\":null,\"data_source\":{\"id\":\"3042\"},\"glyph\":{\"id\":\"3043\"},\"group\":null,\"hover_glyph\":null,\"muted_glyph\":{\"id\":\"3045\"},\"nonselection_glyph\":{\"id\":\"3044\"},\"view\":{\"id\":\"3047\"}},\"id\":\"3046\",\"type\":\"GlyphRenderer\"},{\"attributes\":{},\"id\":\"3056\",\"type\":\"Selection\"},{\"attributes\":{\"label\":{\"value\":\"Women\"},\"renderers\":[{\"id\":\"3046\"}]},\"id\":\"3059\",\"type\":\"LegendItem\"},{\"attributes\":{\"tools\":[{\"id\":\"3028\"},{\"id\":\"3029\"},{\"id\":\"3030\"},{\"id\":\"3031\"},{\"id\":\"3032\"},{\"id\":\"3033\"}]},\"id\":\"3035\",\"type\":\"Toolbar\"}],\"root_ids\":[\"3009\"]},\"title\":\"Bokeh Application\",\"version\":\"2.4.3\"}};\n  const render_items = [{\"docid\":\"45a0c2aa-e85d-46ec-8284-f325b7abb0ed\",\"root_ids\":[\"3009\"],\"roots\":{\"3009\":\"3eb7d700-e750-4e50-96dc-9848bf774dac\"}}];\n  root.Bokeh.embed.embed_items_notebook(docs_json, render_items);\n  }\n  if (root.Bokeh !== undefined) {\n    embed_document(root);\n  } else {\n    let attempts = 0;\n    const timer = setInterval(function(root) {\n      if (root.Bokeh !== undefined) {\n        clearInterval(timer);\n        embed_document(root);\n      } else {\n        attempts++;\n        if (attempts > 100) {\n          clearInterval(timer);\n          console.log(\"Bokeh: ERROR: Unable to run BokehJS code because BokehJS library is missing\");\n        }\n      }\n    }, 10, root)\n  }\n})(window);",
      "application/vnd.bokehjs_exec.v0+json": ""
     },
     "metadata": {
      "application/vnd.bokehjs_exec.v0+json": {
       "id": "3009"
      }
     },
     "output_type": "display_data"
    }
   ],
   "source": [
    "run()"
   ]
  },
  {
   "cell_type": "code",
   "execution_count": null,
   "metadata": {},
   "outputs": [],
   "source": []
  }
 ],
 "metadata": {
  "kernelspec": {
   "display_name": "base",
   "language": "python",
   "name": "python3"
  },
  "language_info": {
   "codemirror_mode": {
    "name": "ipython",
    "version": 3
   },
   "file_extension": ".py",
   "mimetype": "text/x-python",
   "name": "python",
   "nbconvert_exporter": "python",
   "pygments_lexer": "ipython3",
   "version": "3.9.13"
  },
  "orig_nbformat": 4
 },
 "nbformat": 4,
 "nbformat_minor": 2
}
