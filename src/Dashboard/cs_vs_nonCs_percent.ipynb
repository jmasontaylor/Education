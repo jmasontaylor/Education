{
 "cells": [
  {
   "cell_type": "code",
   "execution_count": 33,
   "metadata": {},
   "outputs": [
    {
     "data": {
      "text/html": [
       "<div class=\"bk-root\">\n",
       "        <a href=\"https://bokeh.org\" target=\"_blank\" class=\"bk-logo bk-logo-small bk-logo-notebook\"></a>\n",
       "        <span id=\"2062\">Loading BokehJS ...</span>\n",
       "    </div>\n"
      ]
     },
     "metadata": {},
     "output_type": "display_data"
    },
    {
     "data": {
      "application/javascript": "(function(root) {\n  function now() {\n    return new Date();\n  }\n\n  const force = true;\n\n  if (typeof root._bokeh_onload_callbacks === \"undefined\" || force === true) {\n    root._bokeh_onload_callbacks = [];\n    root._bokeh_is_loading = undefined;\n  }\n\nconst JS_MIME_TYPE = 'application/javascript';\n  const HTML_MIME_TYPE = 'text/html';\n  const EXEC_MIME_TYPE = 'application/vnd.bokehjs_exec.v0+json';\n  const CLASS_NAME = 'output_bokeh rendered_html';\n\n  /**\n   * Render data to the DOM node\n   */\n  function render(props, node) {\n    const script = document.createElement(\"script\");\n    node.appendChild(script);\n  }\n\n  /**\n   * Handle when an output is cleared or removed\n   */\n  function handleClearOutput(event, handle) {\n    const cell = handle.cell;\n\n    const id = cell.output_area._bokeh_element_id;\n    const server_id = cell.output_area._bokeh_server_id;\n    // Clean up Bokeh references\n    if (id != null && id in Bokeh.index) {\n      Bokeh.index[id].model.document.clear();\n      delete Bokeh.index[id];\n    }\n\n    if (server_id !== undefined) {\n      // Clean up Bokeh references\n      const cmd_clean = \"from bokeh.io.state import curstate; print(curstate().uuid_to_server['\" + server_id + \"'].get_sessions()[0].document.roots[0]._id)\";\n      cell.notebook.kernel.execute(cmd_clean, {\n        iopub: {\n          output: function(msg) {\n            const id = msg.content.text.trim();\n            if (id in Bokeh.index) {\n              Bokeh.index[id].model.document.clear();\n              delete Bokeh.index[id];\n            }\n          }\n        }\n      });\n      // Destroy server and session\n      const cmd_destroy = \"import bokeh.io.notebook as ion; ion.destroy_server('\" + server_id + \"')\";\n      cell.notebook.kernel.execute(cmd_destroy);\n    }\n  }\n\n  /**\n   * Handle when a new output is added\n   */\n  function handleAddOutput(event, handle) {\n    const output_area = handle.output_area;\n    const output = handle.output;\n\n    // limit handleAddOutput to display_data with EXEC_MIME_TYPE content only\n    if ((output.output_type != \"display_data\") || (!Object.prototype.hasOwnProperty.call(output.data, EXEC_MIME_TYPE))) {\n      return\n    }\n\n    const toinsert = output_area.element.find(\".\" + CLASS_NAME.split(' ')[0]);\n\n    if (output.metadata[EXEC_MIME_TYPE][\"id\"] !== undefined) {\n      toinsert[toinsert.length - 1].firstChild.textContent = output.data[JS_MIME_TYPE];\n      // store reference to embed id on output_area\n      output_area._bokeh_element_id = output.metadata[EXEC_MIME_TYPE][\"id\"];\n    }\n    if (output.metadata[EXEC_MIME_TYPE][\"server_id\"] !== undefined) {\n      const bk_div = document.createElement(\"div\");\n      bk_div.innerHTML = output.data[HTML_MIME_TYPE];\n      const script_attrs = bk_div.children[0].attributes;\n      for (let i = 0; i < script_attrs.length; i++) {\n        toinsert[toinsert.length - 1].firstChild.setAttribute(script_attrs[i].name, script_attrs[i].value);\n        toinsert[toinsert.length - 1].firstChild.textContent = bk_div.children[0].textContent\n      }\n      // store reference to server id on output_area\n      output_area._bokeh_server_id = output.metadata[EXEC_MIME_TYPE][\"server_id\"];\n    }\n  }\n\n  function register_renderer(events, OutputArea) {\n\n    function append_mime(data, metadata, element) {\n      // create a DOM node to render to\n      const toinsert = this.create_output_subarea(\n        metadata,\n        CLASS_NAME,\n        EXEC_MIME_TYPE\n      );\n      this.keyboard_manager.register_events(toinsert);\n      // Render to node\n      const props = {data: data, metadata: metadata[EXEC_MIME_TYPE]};\n      render(props, toinsert[toinsert.length - 1]);\n      element.append(toinsert);\n      return toinsert\n    }\n\n    /* Handle when an output is cleared or removed */\n    events.on('clear_output.CodeCell', handleClearOutput);\n    events.on('delete.Cell', handleClearOutput);\n\n    /* Handle when a new output is added */\n    events.on('output_added.OutputArea', handleAddOutput);\n\n    /**\n     * Register the mime type and append_mime function with output_area\n     */\n    OutputArea.prototype.register_mime_type(EXEC_MIME_TYPE, append_mime, {\n      /* Is output safe? */\n      safe: true,\n      /* Index of renderer in `output_area.display_order` */\n      index: 0\n    });\n  }\n\n  // register the mime type if in Jupyter Notebook environment and previously unregistered\n  if (root.Jupyter !== undefined) {\n    const events = require('base/js/events');\n    const OutputArea = require('notebook/js/outputarea').OutputArea;\n\n    if (OutputArea.prototype.mime_types().indexOf(EXEC_MIME_TYPE) == -1) {\n      register_renderer(events, OutputArea);\n    }\n  }\n  if (typeof (root._bokeh_timeout) === \"undefined\" || force === true) {\n    root._bokeh_timeout = Date.now() + 5000;\n    root._bokeh_failed_load = false;\n  }\n\n  const NB_LOAD_WARNING = {'data': {'text/html':\n     \"<div style='background-color: #fdd'>\\n\"+\n     \"<p>\\n\"+\n     \"BokehJS does not appear to have successfully loaded. If loading BokehJS from CDN, this \\n\"+\n     \"may be due to a slow or bad network connection. Possible fixes:\\n\"+\n     \"</p>\\n\"+\n     \"<ul>\\n\"+\n     \"<li>re-rerun `output_notebook()` to attempt to load from CDN again, or</li>\\n\"+\n     \"<li>use INLINE resources instead, as so:</li>\\n\"+\n     \"</ul>\\n\"+\n     \"<code>\\n\"+\n     \"from bokeh.resources import INLINE\\n\"+\n     \"output_notebook(resources=INLINE)\\n\"+\n     \"</code>\\n\"+\n     \"</div>\"}};\n\n  function display_loaded() {\n    const el = document.getElementById(\"2062\");\n    if (el != null) {\n      el.textContent = \"BokehJS is loading...\";\n    }\n    if (root.Bokeh !== undefined) {\n      if (el != null) {\n        el.textContent = \"BokehJS \" + root.Bokeh.version + \" successfully loaded.\";\n      }\n    } else if (Date.now() < root._bokeh_timeout) {\n      setTimeout(display_loaded, 100)\n    }\n  }\n\n  function run_callbacks() {\n    try {\n      root._bokeh_onload_callbacks.forEach(function(callback) {\n        if (callback != null)\n          callback();\n      });\n    } finally {\n      delete root._bokeh_onload_callbacks\n    }\n    console.debug(\"Bokeh: all callbacks have finished\");\n  }\n\n  function load_libs(css_urls, js_urls, callback) {\n    if (css_urls == null) css_urls = [];\n    if (js_urls == null) js_urls = [];\n\n    root._bokeh_onload_callbacks.push(callback);\n    if (root._bokeh_is_loading > 0) {\n      console.debug(\"Bokeh: BokehJS is being loaded, scheduling callback at\", now());\n      return null;\n    }\n    if (js_urls == null || js_urls.length === 0) {\n      run_callbacks();\n      return null;\n    }\n    console.debug(\"Bokeh: BokehJS not loaded, scheduling load and callback at\", now());\n    root._bokeh_is_loading = css_urls.length + js_urls.length;\n\n    function on_load() {\n      root._bokeh_is_loading--;\n      if (root._bokeh_is_loading === 0) {\n        console.debug(\"Bokeh: all BokehJS libraries/stylesheets loaded\");\n        run_callbacks()\n      }\n    }\n\n    function on_error(url) {\n      console.error(\"failed to load \" + url);\n    }\n\n    for (let i = 0; i < css_urls.length; i++) {\n      const url = css_urls[i];\n      const element = document.createElement(\"link\");\n      element.onload = on_load;\n      element.onerror = on_error.bind(null, url);\n      element.rel = \"stylesheet\";\n      element.type = \"text/css\";\n      element.href = url;\n      console.debug(\"Bokeh: injecting link tag for BokehJS stylesheet: \", url);\n      document.body.appendChild(element);\n    }\n\n    for (let i = 0; i < js_urls.length; i++) {\n      const url = js_urls[i];\n      const element = document.createElement('script');\n      element.onload = on_load;\n      element.onerror = on_error.bind(null, url);\n      element.async = false;\n      element.src = url;\n      console.debug(\"Bokeh: injecting script tag for BokehJS library: \", url);\n      document.head.appendChild(element);\n    }\n  };\n\n  function inject_raw_css(css) {\n    const element = document.createElement(\"style\");\n    element.appendChild(document.createTextNode(css));\n    document.body.appendChild(element);\n  }\n\n  const js_urls = [\"https://cdn.bokeh.org/bokeh/release/bokeh-2.4.3.min.js\", \"https://cdn.bokeh.org/bokeh/release/bokeh-gl-2.4.3.min.js\", \"https://cdn.bokeh.org/bokeh/release/bokeh-widgets-2.4.3.min.js\", \"https://cdn.bokeh.org/bokeh/release/bokeh-tables-2.4.3.min.js\", \"https://cdn.bokeh.org/bokeh/release/bokeh-mathjax-2.4.3.min.js\"];\n  const css_urls = [];\n\n  const inline_js = [    function(Bokeh) {\n      Bokeh.set_log_level(\"info\");\n    },\nfunction(Bokeh) {\n    }\n  ];\n\n  function run_inline_js() {\n    if (root.Bokeh !== undefined || force === true) {\n          for (let i = 0; i < inline_js.length; i++) {\n      inline_js[i].call(root, root.Bokeh);\n    }\nif (force === true) {\n        display_loaded();\n      }} else if (Date.now() < root._bokeh_timeout) {\n      setTimeout(run_inline_js, 100);\n    } else if (!root._bokeh_failed_load) {\n      console.log(\"Bokeh: BokehJS failed to load within specified timeout.\");\n      root._bokeh_failed_load = true;\n    } else if (force !== true) {\n      const cell = $(document.getElementById(\"2062\")).parents('.cell').data().cell;\n      cell.output_area.append_execute_result(NB_LOAD_WARNING)\n    }\n  }\n\n  if (root._bokeh_is_loading === 0) {\n    console.debug(\"Bokeh: BokehJS loaded, going straight to plotting\");\n    run_inline_js();\n  } else {\n    load_libs(css_urls, js_urls, function() {\n      console.debug(\"Bokeh: BokehJS plotting callback run at\", now());\n      run_inline_js();\n    });\n  }\n}(window));",
      "application/vnd.bokehjs_load.v0+json": ""
     },
     "metadata": {},
     "output_type": "display_data"
    }
   ],
   "source": [
    "\n",
    "import pandas as pd\n",
    "from matplotlib import pyplot as plt\n",
    "from glob import glob\n",
    "from scipy.stats import mannwhitneyu, ttest_ind\n",
    "from tqdm import tqdm\n",
    "import numpy as np \n",
    "import math\n",
    "import seaborn as sns\n",
    "from bokeh.io import output_notebook, show\n",
    "from bokeh.plotting import figure\n",
    "output_notebook()\n",
    "%matplotlib inline\n",
    "def process_unis():\n",
    "    unis = pd.read_csv('../../data/IPEDS/university_info/hd2021.csv', encoding='cp1252')\n",
    "    ## Preprocessing meta-data files\n",
    "    ### Updating names to match in rankings  \n",
    "    unis.loc[unis['IALIAS']=='Virginia Tech', 'INSTNM'] = 'Virginia Tech'\n",
    "    unis.loc[unis['INSTNM']=='University of Illinois Urbana-Champaign', 'INSTNM'] = 'University of Illinois at Urbana-Champaign'\n",
    "    unis.loc[(unis['INSTNM']==\"St. John's College\") & (unis['STABBR']=='MD'), 'INSTNM'] = \"St. John's College - MD\"\n",
    "    unis.loc[(unis['INSTNM']==\"St. John's College\") & (unis['STABBR']=='NM'), 'INSTNM'] = \"St. John's College - NM\"\n",
    "    unis.loc[unis['INSTNM']==\"William & Mary\", 'INSTNM'] = \"College of William and Mary\"\n",
    "    unis.loc[(unis['INSTNM']==\"Brigham Young University\") & (unis['CITY']=='Provo'), 'INSTNM'] = \"Brigham Young University-Provo\"\n",
    "    unis.loc[(unis['INSTNM']==\"The University of the South\") & (unis['CITY']=='Sewanee'), 'INSTNM'] = \"Sewanee - The University of the South\"\n",
    "        \n",
    "    return unis\n",
    "\n",
    "def process_completions(year):\n",
    "    completions = pd.read_csv('../../data/IPEDS/completions/c%s_a.csv' % year)\n",
    "    return completions\n",
    "# hard coded it because of assignment errors"
   ]
  },
  {
   "cell_type": "code",
   "execution_count": 34,
   "metadata": {},
   "outputs": [],
   "source": [
    "def startup():\n",
    "    all_unis = {}\n",
    "    all_completions = {}\n",
    "    for year in range(2008, 2022):\n",
    "        all_unis[year] = process_unis()\n",
    "        all_completions[year] = process_completions(year)\n",
    "    cols = ['UNITID', 'CTOTALW', 'CBKAAT', 'CHISPT']\n",
    "    colors = ['blue', 'red', 'orange', 'navy', 'purple', 'green']\n",
    "    return all_unis, all_completions, cols, colors"
   ]
  },
  {
   "cell_type": "code",
   "execution_count": 35,
   "metadata": {},
   "outputs": [],
   "source": [
    "def region_processing(uni_data, completion_data, region):\n",
    "    uni_boolmap = uni_data['OBEREG'] == region\n",
    "    region_unis = uni_data[uni_boolmap]\n",
    "    unitids = set(region_unis['UNITID'])\n",
    "    completion_boolmap = completion_data['UNITID'].apply(lambda x: x in unitids)\n",
    "    region_data = completion_data[completion_boolmap]\n",
    "    return region_data, region_unis"
   ]
  },
  {
   "cell_type": "code",
   "execution_count": 36,
   "metadata": {},
   "outputs": [],
   "source": [
    "def make_years(completions, unis, start, end):\n",
    "    years = {}\n",
    "    for year in range(start, end + 1):\n",
    "        year_completions, year_unis = unis[year], completions[year]\n",
    "        years[year] = [year_completions, year_unis]\n",
    "    return years"
   ]
  },
  {
   "cell_type": "code",
   "execution_count": 37,
   "metadata": {},
   "outputs": [],
   "source": [
    "# data is the dataframe already boolmapped with the proper data\n",
    "def groupTotals(years):\n",
    "    allStateCsData  = []\n",
    "    allStateNonCsData = []\n",
    "    for year in years:\n",
    "        unis, data = years[year]\n",
    "        csMerge, nonCsMerge = csVsNonCs(data, unis)\n",
    "        csMerge['year'] = year\n",
    "        nonCsMerge['year'] = year\n",
    "        allStateCsData.append(csMerge)\n",
    "        allStateNonCsData.append(nonCsMerge)\n",
    "    allStateCsData = pd.concat(allStateCsData)\n",
    "    allStateNonCsData = pd.concat(allStateNonCsData)\n",
    "    return allStateCsData, allStateNonCsData\n",
    "    \n",
    "        \n",
    "        \n",
    "def csVsNonCs(data, unis):\n",
    "    csBoolmap = data['CIPCODE'].apply(lambda x : x < 12 and x >= 11)\n",
    "    cs = data[csBoolmap]\n",
    "    csSum = cs.groupby('UNITID').sum()\n",
    "    csSum = csSum.reset_index()\n",
    "    uniqueIds = set(csSum['UNITID'].unique())\n",
    "    nonCs = data[data.apply(lambda x: x['UNITID'] in uniqueIds, axis = 1)]\n",
    "    nonCsSum = nonCs.groupby('UNITID').sum().reset_index()\n",
    "    cols = ['UNITID', 'CTOTALW', 'CBKAAT', 'CHISPT', 'CTOTALT']\n",
    "    csMerge = pd.merge(csSum[cols], unis[['UNITID', 'LONGITUD', 'LATITUDE']], on = 'UNITID', how='left')\n",
    "    nonCsMerge = pd.merge(nonCsSum[cols], unis[['UNITID', 'LONGITUD', 'LATITUDE']], on = 'UNITID', how='left')\n",
    "    return csMerge, nonCsMerge"
   ]
  },
  {
   "cell_type": "code",
   "execution_count": 38,
   "metadata": {},
   "outputs": [],
   "source": [
    "def make_percents(cs, nonCs):\n",
    "    cs = cs.set_index(['UNITID', 'year', 'LONGITUD', 'LATITUDE'])\n",
    "    nonCs = nonCs.set_index(['UNITID', 'year', 'LONGITUD', 'LATITUDE'])\n",
    "    cs = cs.apply(lambda x: x / x['CTOTALT'], axis = 1)\n",
    "    nonCs = nonCs.apply(lambda x: x / x['CTOTALT'], axis = 1)\n",
    "    cs = cs.reset_index()\n",
    "    nonCs = nonCs.reset_index()\n",
    "    return cs, nonCs"
   ]
  },
  {
   "cell_type": "code",
   "execution_count": 39,
   "metadata": {},
   "outputs": [],
   "source": [
    "def make_groups(cs, nonCs):\n",
    "    return cs.groupby('year').sum().reset_index(), nonCs.groupby('year').sum().reset_index()\n"
   ]
  },
  {
   "cell_type": "code",
   "execution_count": 40,
   "metadata": {},
   "outputs": [],
   "source": [
    "def cs_nonCs_difference(cs, nonCs):\n",
    "    cs = cs.set_index(['LONGITUD', 'LATITUDE', 'UNITID', 'year'])\n",
    "    nonCs = nonCs.set_index(['LONGITUD', 'LATITUDE', 'UNITID', 'year'])\n",
    "    difference = cs - nonCs\n",
    "    difference.columns = ['d_%s' % col for col in difference.columns]\n",
    "        \n",
    "    difference = difference.reset_index()\n",
    "    return difference"
   ]
  },
  {
   "cell_type": "code",
   "execution_count": 41,
   "metadata": {},
   "outputs": [],
   "source": [
    "def get_avg(data):\n",
    "    data = data.groupby('UNITID').mean()\n",
    "    return data.reset_index()"
   ]
  },
  {
   "cell_type": "code",
   "execution_count": 42,
   "metadata": {},
   "outputs": [],
   "source": [
    "def make_correlation_df(data, unis, demo):\n",
    "    correlation_df_merge = pd.merge(data[['UNITID', 'd_CTOTALW', 'd_CBKAAT', 'd_CHISPT']], unis, on='UNITID')\n",
    "    non_differences = correlation_df_merge.drop(['d_CTOTALW', 'd_CBKAAT', 'd_CHISPT'], axis=1)\n",
    "    correlations_df = non_differences.corrwith(correlation_df_merge[demo])\n",
    "    #correlations_df = correlation_df_merge[['d_CTOTALW', 'd_CBKAAT', 'd_CHISPT', 'd_CAIANT']].corrwith(non_differences, axis=0)\n",
    "    return correlations_df.dropna()\n",
    "    \n"
   ]
  },
  {
   "cell_type": "code",
   "execution_count": 49,
   "metadata": {},
   "outputs": [],
   "source": [
    "def graph(cs, nonCs, cols, colors):\n",
    "    demos = ['Women', 'Black', 'Hispanic']\n",
    "    for i, demo in enumerate(cols[1:]):\n",
    "        p=figure(width=800, height=400, title='CS vs Non-CS %s Percentage'%demos[i])\n",
    "        p.line(cs['year'], cs[demo], legend_label='CS', line_color=colors[0])\n",
    "        p.line(nonCs['year'], nonCs[demo], legend_label='Non-CS', line_color=colors[1])\n",
    "        p.legend.location='center'\n",
    "        p.add_layout(p.legend[0], 'right')\n",
    "        show(p)\n"
   ]
  },
  {
   "cell_type": "code",
   "execution_count": 50,
   "metadata": {},
   "outputs": [],
   "source": [
    "def run():\n",
    "    all_unis, all_completion, cols, colors = startup()\n",
    "    years = make_years(all_completion, all_unis, 2011, 2021)\n",
    "    csTotal, nonCsTotal = groupTotals(years)\n",
    "    csTotal, nonCsTotal = make_groups(csTotal, nonCsTotal)\n",
    "    csPercent, nonCsPercent = make_percents(csTotal, nonCsTotal)\n",
    "    graph(csPercent, nonCsPercent, cols, colors)\n",
    "    \n",
    "    "
   ]
  },
  {
   "cell_type": "code",
   "execution_count": 51,
   "metadata": {},
   "outputs": [
    {
     "data": {
      "text/html": [
       "\n",
       "  <div class=\"bk-root\" id=\"d723088b-5161-424f-aef4-acc1be28415e\" data-root-id=\"3524\"></div>\n"
      ]
     },
     "metadata": {},
     "output_type": "display_data"
    },
    {
     "data": {
      "application/javascript": "(function(root) {\n  function embed_document(root) {\n  const docs_json = {\"a54257a0-7937-42e7-8a3e-9e70a0ea4440\":{\"defs\":[],\"roots\":{\"references\":[{\"attributes\":{\"below\":[{\"id\":\"3535\"}],\"center\":[{\"id\":\"3538\"},{\"id\":\"3542\"},{\"id\":\"3573\"}],\"height\":400,\"left\":[{\"id\":\"3539\"}],\"renderers\":[{\"id\":\"3561\"},{\"id\":\"3579\"}],\"right\":[{\"id\":\"3573\"}],\"title\":{\"id\":\"3525\"},\"toolbar\":{\"id\":\"3550\"},\"width\":800,\"x_range\":{\"id\":\"3527\"},\"x_scale\":{\"id\":\"3531\"},\"y_range\":{\"id\":\"3529\"},\"y_scale\":{\"id\":\"3533\"}},\"id\":\"3524\",\"subtype\":\"Figure\",\"type\":\"Plot\"},{\"attributes\":{\"coordinates\":null,\"data_source\":{\"id\":\"3575\"},\"glyph\":{\"id\":\"3576\"},\"group\":null,\"hover_glyph\":null,\"muted_glyph\":{\"id\":\"3578\"},\"nonselection_glyph\":{\"id\":\"3577\"},\"view\":{\"id\":\"3580\"}},\"id\":\"3579\",\"type\":\"GlyphRenderer\"},{\"attributes\":{},\"id\":\"3590\",\"type\":\"UnionRenderers\"},{\"attributes\":{},\"id\":\"3548\",\"type\":\"HelpTool\"},{\"attributes\":{},\"id\":\"3591\",\"type\":\"Selection\"},{\"attributes\":{\"axis\":{\"id\":\"3535\"},\"coordinates\":null,\"group\":null,\"ticker\":null},\"id\":\"3538\",\"type\":\"Grid\"},{\"attributes\":{\"source\":{\"id\":\"3557\"}},\"id\":\"3562\",\"type\":\"CDSView\"},{\"attributes\":{\"data\":{\"x\":[2011,2012,2013,2014,2015,2016,2017,2018,2019,2020,2021],\"y\":{\"__ndarray__\":\"wSsGPDAZzj8L5s2LFFTNP+kEpDaI3Mw/k9tUkNwqzT/iruU1ccbNP7sMvrEmX84/d+c523ekzj83bY2RNYnOP6aPKmiZ/M4/bQqOOLaFzz+w30D97jHQPw==\",\"dtype\":\"float64\",\"order\":\"little\",\"shape\":[11]}},\"selected\":{\"id\":\"3571\"},\"selection_policy\":{\"id\":\"3570\"}},\"id\":\"3557\",\"type\":\"ColumnDataSource\"},{\"attributes\":{},\"id\":\"3570\",\"type\":\"UnionRenderers\"},{\"attributes\":{\"coordinates\":null,\"group\":null,\"text\":\"CS vs Non-CS Women Percentage\"},\"id\":\"3525\",\"type\":\"Title\"},{\"attributes\":{},\"id\":\"3568\",\"type\":\"BasicTickFormatter\"},{\"attributes\":{},\"id\":\"3527\",\"type\":\"DataRange1d\"},{\"attributes\":{},\"id\":\"3546\",\"type\":\"SaveTool\"},{\"attributes\":{},\"id\":\"3536\",\"type\":\"BasicTicker\"},{\"attributes\":{\"source\":{\"id\":\"3575\"}},\"id\":\"3580\",\"type\":\"CDSView\"},{\"attributes\":{\"line_alpha\":0.1,\"line_color\":\"red\",\"x\":{\"field\":\"x\"},\"y\":{\"field\":\"y\"}},\"id\":\"3577\",\"type\":\"Line\"},{\"attributes\":{},\"id\":\"3529\",\"type\":\"DataRange1d\"},{\"attributes\":{\"data\":{\"x\":[2011,2012,2013,2014,2015,2016,2017,2018,2019,2020,2021],\"y\":{\"__ndarray__\":\"LGeunMKG4j+nfNa5bI/iP0ySEpc/euI/B8VttLBg4j9Cmi/oHVbiP+DqeCbdSuI/vIR7iDlJ4j/7MlsIQkjiP611zr46YuI/OFLtOiuO4j+scT/VyOHiPw==\",\"dtype\":\"float64\",\"order\":\"little\",\"shape\":[11]}},\"selected\":{\"id\":\"3591\"},\"selection_policy\":{\"id\":\"3590\"}},\"id\":\"3575\",\"type\":\"ColumnDataSource\"},{\"attributes\":{\"line_alpha\":0.2,\"line_color\":\"red\",\"x\":{\"field\":\"x\"},\"y\":{\"field\":\"y\"}},\"id\":\"3578\",\"type\":\"Line\"},{\"attributes\":{},\"id\":\"3543\",\"type\":\"PanTool\"},{\"attributes\":{},\"id\":\"3566\",\"type\":\"AllLabels\"},{\"attributes\":{},\"id\":\"3571\",\"type\":\"Selection\"},{\"attributes\":{\"coordinates\":null,\"formatter\":{\"id\":\"3565\"},\"group\":null,\"major_label_policy\":{\"id\":\"3566\"},\"ticker\":{\"id\":\"3540\"}},\"id\":\"3539\",\"type\":\"LinearAxis\"},{\"attributes\":{\"line_color\":\"red\",\"x\":{\"field\":\"x\"},\"y\":{\"field\":\"y\"}},\"id\":\"3576\",\"type\":\"Line\"},{\"attributes\":{\"label\":{\"value\":\"Non-CS\"},\"renderers\":[{\"id\":\"3579\"}]},\"id\":\"3593\",\"type\":\"LegendItem\"},{\"attributes\":{\"overlay\":{\"id\":\"3549\"}},\"id\":\"3545\",\"type\":\"BoxZoomTool\"},{\"attributes\":{\"axis\":{\"id\":\"3539\"},\"coordinates\":null,\"dimension\":1,\"group\":null,\"ticker\":null},\"id\":\"3542\",\"type\":\"Grid\"},{\"attributes\":{},\"id\":\"3531\",\"type\":\"LinearScale\"},{\"attributes\":{},\"id\":\"3544\",\"type\":\"WheelZoomTool\"},{\"attributes\":{\"coordinates\":null,\"group\":null,\"items\":[{\"id\":\"3574\"},{\"id\":\"3593\"}],\"location\":\"center\"},\"id\":\"3573\",\"type\":\"Legend\"},{\"attributes\":{},\"id\":\"3569\",\"type\":\"AllLabels\"},{\"attributes\":{},\"id\":\"3540\",\"type\":\"BasicTicker\"},{\"attributes\":{},\"id\":\"3565\",\"type\":\"BasicTickFormatter\"},{\"attributes\":{},\"id\":\"3533\",\"type\":\"LinearScale\"},{\"attributes\":{\"label\":{\"value\":\"CS\"},\"renderers\":[{\"id\":\"3561\"}]},\"id\":\"3574\",\"type\":\"LegendItem\"},{\"attributes\":{\"bottom_units\":\"screen\",\"coordinates\":null,\"fill_alpha\":0.5,\"fill_color\":\"lightgrey\",\"group\":null,\"left_units\":\"screen\",\"level\":\"overlay\",\"line_alpha\":1.0,\"line_color\":\"black\",\"line_dash\":[4,4],\"line_width\":2,\"right_units\":\"screen\",\"syncable\":false,\"top_units\":\"screen\"},\"id\":\"3549\",\"type\":\"BoxAnnotation\"},{\"attributes\":{\"tools\":[{\"id\":\"3543\"},{\"id\":\"3544\"},{\"id\":\"3545\"},{\"id\":\"3546\"},{\"id\":\"3547\"},{\"id\":\"3548\"}]},\"id\":\"3550\",\"type\":\"Toolbar\"},{\"attributes\":{\"line_alpha\":0.2,\"line_color\":\"blue\",\"x\":{\"field\":\"x\"},\"y\":{\"field\":\"y\"}},\"id\":\"3560\",\"type\":\"Line\"},{\"attributes\":{\"coordinates\":null,\"formatter\":{\"id\":\"3568\"},\"group\":null,\"major_label_policy\":{\"id\":\"3569\"},\"ticker\":{\"id\":\"3536\"}},\"id\":\"3535\",\"type\":\"LinearAxis\"},{\"attributes\":{\"line_color\":\"blue\",\"x\":{\"field\":\"x\"},\"y\":{\"field\":\"y\"}},\"id\":\"3558\",\"type\":\"Line\"},{\"attributes\":{\"coordinates\":null,\"data_source\":{\"id\":\"3557\"},\"glyph\":{\"id\":\"3558\"},\"group\":null,\"hover_glyph\":null,\"muted_glyph\":{\"id\":\"3560\"},\"nonselection_glyph\":{\"id\":\"3559\"},\"view\":{\"id\":\"3562\"}},\"id\":\"3561\",\"type\":\"GlyphRenderer\"},{\"attributes\":{},\"id\":\"3547\",\"type\":\"ResetTool\"},{\"attributes\":{\"line_alpha\":0.1,\"line_color\":\"blue\",\"x\":{\"field\":\"x\"},\"y\":{\"field\":\"y\"}},\"id\":\"3559\",\"type\":\"Line\"}],\"root_ids\":[\"3524\"]},\"title\":\"Bokeh Application\",\"version\":\"2.4.3\"}};\n  const render_items = [{\"docid\":\"a54257a0-7937-42e7-8a3e-9e70a0ea4440\",\"root_ids\":[\"3524\"],\"roots\":{\"3524\":\"d723088b-5161-424f-aef4-acc1be28415e\"}}];\n  root.Bokeh.embed.embed_items_notebook(docs_json, render_items);\n  }\n  if (root.Bokeh !== undefined) {\n    embed_document(root);\n  } else {\n    let attempts = 0;\n    const timer = setInterval(function(root) {\n      if (root.Bokeh !== undefined) {\n        clearInterval(timer);\n        embed_document(root);\n      } else {\n        attempts++;\n        if (attempts > 100) {\n          clearInterval(timer);\n          console.log(\"Bokeh: ERROR: Unable to run BokehJS code because BokehJS library is missing\");\n        }\n      }\n    }, 10, root)\n  }\n})(window);",
      "application/vnd.bokehjs_exec.v0+json": ""
     },
     "metadata": {
      "application/vnd.bokehjs_exec.v0+json": {
       "id": "3524"
      }
     },
     "output_type": "display_data"
    },
    {
     "data": {
      "text/html": [
       "\n",
       "  <div class=\"bk-root\" id=\"94d14528-0fb4-487f-b378-da635b1a95f9\" data-root-id=\"3810\"></div>\n"
      ]
     },
     "metadata": {},
     "output_type": "display_data"
    },
    {
     "data": {
      "application/javascript": "(function(root) {\n  function embed_document(root) {\n  const docs_json = {\"08731f96-f2fe-4636-a3f7-8ac3aa2091f9\":{\"defs\":[],\"roots\":{\"references\":[{\"attributes\":{\"below\":[{\"id\":\"3821\"}],\"center\":[{\"id\":\"3824\"},{\"id\":\"3828\"},{\"id\":\"3859\"}],\"height\":400,\"left\":[{\"id\":\"3825\"}],\"renderers\":[{\"id\":\"3847\"},{\"id\":\"3865\"}],\"right\":[{\"id\":\"3859\"}],\"title\":{\"id\":\"3811\"},\"toolbar\":{\"id\":\"3836\"},\"width\":800,\"x_range\":{\"id\":\"3813\"},\"x_scale\":{\"id\":\"3817\"},\"y_range\":{\"id\":\"3815\"},\"y_scale\":{\"id\":\"3819\"}},\"id\":\"3810\",\"subtype\":\"Figure\",\"type\":\"Plot\"},{\"attributes\":{},\"id\":\"3813\",\"type\":\"DataRange1d\"},{\"attributes\":{\"line_alpha\":0.2,\"line_color\":\"red\",\"x\":{\"field\":\"x\"},\"y\":{\"field\":\"y\"}},\"id\":\"3864\",\"type\":\"Line\"},{\"attributes\":{},\"id\":\"3822\",\"type\":\"BasicTicker\"},{\"attributes\":{\"axis\":{\"id\":\"3821\"},\"coordinates\":null,\"group\":null,\"ticker\":null},\"id\":\"3824\",\"type\":\"Grid\"},{\"attributes\":{\"coordinates\":null,\"formatter\":{\"id\":\"3854\"},\"group\":null,\"major_label_policy\":{\"id\":\"3855\"},\"ticker\":{\"id\":\"3822\"}},\"id\":\"3821\",\"type\":\"LinearAxis\"},{\"attributes\":{\"source\":{\"id\":\"3861\"}},\"id\":\"3866\",\"type\":\"CDSView\"},{\"attributes\":{\"line_alpha\":0.1,\"line_color\":\"red\",\"x\":{\"field\":\"x\"},\"y\":{\"field\":\"y\"}},\"id\":\"3863\",\"type\":\"Line\"},{\"attributes\":{\"line_alpha\":0.2,\"line_color\":\"blue\",\"x\":{\"field\":\"x\"},\"y\":{\"field\":\"y\"}},\"id\":\"3846\",\"type\":\"Line\"},{\"attributes\":{},\"id\":\"3834\",\"type\":\"HelpTool\"},{\"attributes\":{},\"id\":\"3851\",\"type\":\"BasicTickFormatter\"},{\"attributes\":{\"line_color\":\"red\",\"x\":{\"field\":\"x\"},\"y\":{\"field\":\"y\"}},\"id\":\"3862\",\"type\":\"Line\"},{\"attributes\":{},\"id\":\"3815\",\"type\":\"DataRange1d\"},{\"attributes\":{\"label\":{\"value\":\"Non-CS\"},\"renderers\":[{\"id\":\"3865\"}]},\"id\":\"3879\",\"type\":\"LegendItem\"},{\"attributes\":{},\"id\":\"3852\",\"type\":\"AllLabels\"},{\"attributes\":{},\"id\":\"3817\",\"type\":\"LinearScale\"},{\"attributes\":{},\"id\":\"3876\",\"type\":\"UnionRenderers\"},{\"attributes\":{\"axis\":{\"id\":\"3825\"},\"coordinates\":null,\"dimension\":1,\"group\":null,\"ticker\":null},\"id\":\"3828\",\"type\":\"Grid\"},{\"attributes\":{},\"id\":\"3826\",\"type\":\"BasicTicker\"},{\"attributes\":{},\"id\":\"3854\",\"type\":\"BasicTickFormatter\"},{\"attributes\":{\"coordinates\":null,\"data_source\":{\"id\":\"3843\"},\"glyph\":{\"id\":\"3844\"},\"group\":null,\"hover_glyph\":null,\"muted_glyph\":{\"id\":\"3846\"},\"nonselection_glyph\":{\"id\":\"3845\"},\"view\":{\"id\":\"3848\"}},\"id\":\"3847\",\"type\":\"GlyphRenderer\"},{\"attributes\":{},\"id\":\"3877\",\"type\":\"Selection\"},{\"attributes\":{},\"id\":\"3830\",\"type\":\"WheelZoomTool\"},{\"attributes\":{},\"id\":\"3855\",\"type\":\"AllLabels\"},{\"attributes\":{},\"id\":\"3829\",\"type\":\"PanTool\"},{\"attributes\":{\"overlay\":{\"id\":\"3835\"}},\"id\":\"3831\",\"type\":\"BoxZoomTool\"},{\"attributes\":{},\"id\":\"3832\",\"type\":\"SaveTool\"},{\"attributes\":{},\"id\":\"3833\",\"type\":\"ResetTool\"},{\"attributes\":{},\"id\":\"3856\",\"type\":\"UnionRenderers\"},{\"attributes\":{\"line_color\":\"blue\",\"x\":{\"field\":\"x\"},\"y\":{\"field\":\"y\"}},\"id\":\"3844\",\"type\":\"Line\"},{\"attributes\":{\"bottom_units\":\"screen\",\"coordinates\":null,\"fill_alpha\":0.5,\"fill_color\":\"lightgrey\",\"group\":null,\"left_units\":\"screen\",\"level\":\"overlay\",\"line_alpha\":1.0,\"line_color\":\"black\",\"line_dash\":[4,4],\"line_width\":2,\"right_units\":\"screen\",\"syncable\":false,\"top_units\":\"screen\"},\"id\":\"3835\",\"type\":\"BoxAnnotation\"},{\"attributes\":{\"tools\":[{\"id\":\"3829\"},{\"id\":\"3830\"},{\"id\":\"3831\"},{\"id\":\"3832\"},{\"id\":\"3833\"},{\"id\":\"3834\"}]},\"id\":\"3836\",\"type\":\"Toolbar\"},{\"attributes\":{\"data\":{\"x\":[2011,2012,2013,2014,2015,2016,2017,2018,2019,2020,2021],\"y\":{\"__ndarray__\":\"Ug4pLPigvz+4quhfJ469P5nHaV/A574/+6SgwZl3vj8PxFEfrOG8P4jk/iePjLg/oKPtx5Z0tz99/NmRpo+3P4IofzwLCbg/IexG56/gtz8If7lsah+5Pw==\",\"dtype\":\"float64\",\"order\":\"little\",\"shape\":[11]}},\"selected\":{\"id\":\"3857\"},\"selection_policy\":{\"id\":\"3856\"}},\"id\":\"3843\",\"type\":\"ColumnDataSource\"},{\"attributes\":{},\"id\":\"3819\",\"type\":\"LinearScale\"},{\"attributes\":{\"data\":{\"x\":[2011,2012,2013,2014,2015,2016,2017,2018,2019,2020,2021],\"y\":{\"__ndarray__\":\"gDqi7Db/uz+F4YTUzQy8PyUpJUNy1Ls/Jgu0u/7tuz8LoiQjVxG8P6MIu2Q+g7s/ruUxF+o1uz9kQoKvWqq6P+Y/IBesWbo/bddj2SH8uT99WcRrxn66Pw==\",\"dtype\":\"float64\",\"order\":\"little\",\"shape\":[11]}},\"selected\":{\"id\":\"3877\"},\"selection_policy\":{\"id\":\"3876\"}},\"id\":\"3861\",\"type\":\"ColumnDataSource\"},{\"attributes\":{\"coordinates\":null,\"group\":null,\"items\":[{\"id\":\"3860\"},{\"id\":\"3879\"}],\"location\":\"center\"},\"id\":\"3859\",\"type\":\"Legend\"},{\"attributes\":{},\"id\":\"3857\",\"type\":\"Selection\"},{\"attributes\":{\"coordinates\":null,\"data_source\":{\"id\":\"3861\"},\"glyph\":{\"id\":\"3862\"},\"group\":null,\"hover_glyph\":null,\"muted_glyph\":{\"id\":\"3864\"},\"nonselection_glyph\":{\"id\":\"3863\"},\"view\":{\"id\":\"3866\"}},\"id\":\"3865\",\"type\":\"GlyphRenderer\"},{\"attributes\":{\"source\":{\"id\":\"3843\"}},\"id\":\"3848\",\"type\":\"CDSView\"},{\"attributes\":{\"line_alpha\":0.1,\"line_color\":\"blue\",\"x\":{\"field\":\"x\"},\"y\":{\"field\":\"y\"}},\"id\":\"3845\",\"type\":\"Line\"},{\"attributes\":{\"label\":{\"value\":\"CS\"},\"renderers\":[{\"id\":\"3847\"}]},\"id\":\"3860\",\"type\":\"LegendItem\"},{\"attributes\":{\"coordinates\":null,\"group\":null,\"text\":\"CS vs Non-CS Black Percentage\"},\"id\":\"3811\",\"type\":\"Title\"},{\"attributes\":{\"coordinates\":null,\"formatter\":{\"id\":\"3851\"},\"group\":null,\"major_label_policy\":{\"id\":\"3852\"},\"ticker\":{\"id\":\"3826\"}},\"id\":\"3825\",\"type\":\"LinearAxis\"}],\"root_ids\":[\"3810\"]},\"title\":\"Bokeh Application\",\"version\":\"2.4.3\"}};\n  const render_items = [{\"docid\":\"08731f96-f2fe-4636-a3f7-8ac3aa2091f9\",\"root_ids\":[\"3810\"],\"roots\":{\"3810\":\"94d14528-0fb4-487f-b378-da635b1a95f9\"}}];\n  root.Bokeh.embed.embed_items_notebook(docs_json, render_items);\n  }\n  if (root.Bokeh !== undefined) {\n    embed_document(root);\n  } else {\n    let attempts = 0;\n    const timer = setInterval(function(root) {\n      if (root.Bokeh !== undefined) {\n        clearInterval(timer);\n        embed_document(root);\n      } else {\n        attempts++;\n        if (attempts > 100) {\n          clearInterval(timer);\n          console.log(\"Bokeh: ERROR: Unable to run BokehJS code because BokehJS library is missing\");\n        }\n      }\n    }, 10, root)\n  }\n})(window);",
      "application/vnd.bokehjs_exec.v0+json": ""
     },
     "metadata": {
      "application/vnd.bokehjs_exec.v0+json": {
       "id": "3810"
      }
     },
     "output_type": "display_data"
    },
    {
     "data": {
      "text/html": [
       "\n",
       "  <div class=\"bk-root\" id=\"756328c8-17d8-49c7-942f-fbf83f46cee0\" data-root-id=\"4108\"></div>\n"
      ]
     },
     "metadata": {},
     "output_type": "display_data"
    },
    {
     "data": {
      "application/javascript": "(function(root) {\n  function embed_document(root) {\n  const docs_json = {\"832c2a02-9d14-4aa3-9db0-2277bd796d48\":{\"defs\":[],\"roots\":{\"references\":[{\"attributes\":{\"below\":[{\"id\":\"4119\"}],\"center\":[{\"id\":\"4122\"},{\"id\":\"4126\"},{\"id\":\"4157\"}],\"height\":400,\"left\":[{\"id\":\"4123\"}],\"renderers\":[{\"id\":\"4145\"},{\"id\":\"4163\"}],\"right\":[{\"id\":\"4157\"}],\"title\":{\"id\":\"4109\"},\"toolbar\":{\"id\":\"4134\"},\"width\":800,\"x_range\":{\"id\":\"4111\"},\"x_scale\":{\"id\":\"4115\"},\"y_range\":{\"id\":\"4113\"},\"y_scale\":{\"id\":\"4117\"}},\"id\":\"4108\",\"subtype\":\"Figure\",\"type\":\"Plot\"},{\"attributes\":{\"data\":{\"x\":[2011,2012,2013,2014,2015,2016,2017,2018,2019,2020,2021],\"y\":{\"__ndarray__\":\"ubtgWfQPuj+VnOa6YhK8P3wpJwiL+b0/uF3zNQu5vz9qyorWwr/AP7RXKRet58E/9Zg+yCrdwj+suvSKPNnDP//tqFtp9MQ/+doevfeoxT/IHIBDZGDGPw==\",\"dtype\":\"float64\",\"order\":\"little\",\"shape\":[11]}},\"selected\":{\"id\":\"4175\"},\"selection_policy\":{\"id\":\"4174\"}},\"id\":\"4159\",\"type\":\"ColumnDataSource\"},{\"attributes\":{},\"id\":\"4117\",\"type\":\"LinearScale\"},{\"attributes\":{\"coordinates\":null,\"group\":null,\"text\":\"CS vs Non-CS Hispanic Percentage\"},\"id\":\"4109\",\"type\":\"Title\"},{\"attributes\":{},\"id\":\"4111\",\"type\":\"DataRange1d\"},{\"attributes\":{\"coordinates\":null,\"data_source\":{\"id\":\"4159\"},\"glyph\":{\"id\":\"4160\"},\"group\":null,\"hover_glyph\":null,\"muted_glyph\":{\"id\":\"4162\"},\"nonselection_glyph\":{\"id\":\"4161\"},\"view\":{\"id\":\"4164\"}},\"id\":\"4163\",\"type\":\"GlyphRenderer\"},{\"attributes\":{\"coordinates\":null,\"formatter\":{\"id\":\"4149\"},\"group\":null,\"major_label_policy\":{\"id\":\"4150\"},\"ticker\":{\"id\":\"4124\"}},\"id\":\"4123\",\"type\":\"LinearAxis\"},{\"attributes\":{\"line_alpha\":0.2,\"line_color\":\"red\",\"x\":{\"field\":\"x\"},\"y\":{\"field\":\"y\"}},\"id\":\"4162\",\"type\":\"Line\"},{\"attributes\":{\"coordinates\":null,\"formatter\":{\"id\":\"4152\"},\"group\":null,\"major_label_policy\":{\"id\":\"4153\"},\"ticker\":{\"id\":\"4120\"}},\"id\":\"4119\",\"type\":\"LinearAxis\"},{\"attributes\":{},\"id\":\"4132\",\"type\":\"HelpTool\"},{\"attributes\":{\"line_color\":\"blue\",\"x\":{\"field\":\"x\"},\"y\":{\"field\":\"y\"}},\"id\":\"4142\",\"type\":\"Line\"},{\"attributes\":{},\"id\":\"4113\",\"type\":\"DataRange1d\"},{\"attributes\":{\"source\":{\"id\":\"4159\"}},\"id\":\"4164\",\"type\":\"CDSView\"},{\"attributes\":{\"line_alpha\":0.1,\"line_color\":\"red\",\"x\":{\"field\":\"x\"},\"y\":{\"field\":\"y\"}},\"id\":\"4161\",\"type\":\"Line\"},{\"attributes\":{},\"id\":\"4115\",\"type\":\"LinearScale\"},{\"attributes\":{\"line_color\":\"red\",\"x\":{\"field\":\"x\"},\"y\":{\"field\":\"y\"}},\"id\":\"4160\",\"type\":\"Line\"},{\"attributes\":{},\"id\":\"4149\",\"type\":\"BasicTickFormatter\"},{\"attributes\":{},\"id\":\"4120\",\"type\":\"BasicTicker\"},{\"attributes\":{\"axis\":{\"id\":\"4119\"},\"coordinates\":null,\"group\":null,\"ticker\":null},\"id\":\"4122\",\"type\":\"Grid\"},{\"attributes\":{},\"id\":\"4150\",\"type\":\"AllLabels\"},{\"attributes\":{\"label\":{\"value\":\"Non-CS\"},\"renderers\":[{\"id\":\"4163\"}]},\"id\":\"4177\",\"type\":\"LegendItem\"},{\"attributes\":{},\"id\":\"4174\",\"type\":\"UnionRenderers\"},{\"attributes\":{\"axis\":{\"id\":\"4123\"},\"coordinates\":null,\"dimension\":1,\"group\":null,\"ticker\":null},\"id\":\"4126\",\"type\":\"Grid\"},{\"attributes\":{},\"id\":\"4152\",\"type\":\"BasicTickFormatter\"},{\"attributes\":{},\"id\":\"4124\",\"type\":\"BasicTicker\"},{\"attributes\":{\"label\":{\"value\":\"CS\"},\"renderers\":[{\"id\":\"4145\"}]},\"id\":\"4158\",\"type\":\"LegendItem\"},{\"attributes\":{\"coordinates\":null,\"data_source\":{\"id\":\"4141\"},\"glyph\":{\"id\":\"4142\"},\"group\":null,\"hover_glyph\":null,\"muted_glyph\":{\"id\":\"4144\"},\"nonselection_glyph\":{\"id\":\"4143\"},\"view\":{\"id\":\"4146\"}},\"id\":\"4145\",\"type\":\"GlyphRenderer\"},{\"attributes\":{\"line_alpha\":0.1,\"line_color\":\"blue\",\"x\":{\"field\":\"x\"},\"y\":{\"field\":\"y\"}},\"id\":\"4143\",\"type\":\"Line\"},{\"attributes\":{},\"id\":\"4175\",\"type\":\"Selection\"},{\"attributes\":{},\"id\":\"4153\",\"type\":\"AllLabels\"},{\"attributes\":{\"source\":{\"id\":\"4141\"}},\"id\":\"4146\",\"type\":\"CDSView\"},{\"attributes\":{},\"id\":\"4128\",\"type\":\"WheelZoomTool\"},{\"attributes\":{},\"id\":\"4127\",\"type\":\"PanTool\"},{\"attributes\":{\"overlay\":{\"id\":\"4133\"}},\"id\":\"4129\",\"type\":\"BoxZoomTool\"},{\"attributes\":{},\"id\":\"4130\",\"type\":\"SaveTool\"},{\"attributes\":{},\"id\":\"4131\",\"type\":\"ResetTool\"},{\"attributes\":{\"bottom_units\":\"screen\",\"coordinates\":null,\"fill_alpha\":0.5,\"fill_color\":\"lightgrey\",\"group\":null,\"left_units\":\"screen\",\"level\":\"overlay\",\"line_alpha\":1.0,\"line_color\":\"black\",\"line_dash\":[4,4],\"line_width\":2,\"right_units\":\"screen\",\"syncable\":false,\"top_units\":\"screen\"},\"id\":\"4133\",\"type\":\"BoxAnnotation\"},{\"attributes\":{\"line_alpha\":0.2,\"line_color\":\"blue\",\"x\":{\"field\":\"x\"},\"y\":{\"field\":\"y\"}},\"id\":\"4144\",\"type\":\"Line\"},{\"attributes\":{\"data\":{\"x\":[2011,2012,2013,2014,2015,2016,2017,2018,2019,2020,2021],\"y\":{\"__ndarray__\":\"2hKauQZItz9VPYHopQe4P5VxHNaujrk/vIgaB0DzuT/Hv0+nxkm6Pw8roLIPI7k/adN857dluT/X8D5vABS6P9mz5YmxOrs/S5qEhZO2uz/7u5YgdH28Pw==\",\"dtype\":\"float64\",\"order\":\"little\",\"shape\":[11]}},\"selected\":{\"id\":\"4155\"},\"selection_policy\":{\"id\":\"4154\"}},\"id\":\"4141\",\"type\":\"ColumnDataSource\"},{\"attributes\":{},\"id\":\"4154\",\"type\":\"UnionRenderers\"},{\"attributes\":{},\"id\":\"4155\",\"type\":\"Selection\"},{\"attributes\":{\"coordinates\":null,\"group\":null,\"items\":[{\"id\":\"4158\"},{\"id\":\"4177\"}],\"location\":\"center\"},\"id\":\"4157\",\"type\":\"Legend\"},{\"attributes\":{\"tools\":[{\"id\":\"4127\"},{\"id\":\"4128\"},{\"id\":\"4129\"},{\"id\":\"4130\"},{\"id\":\"4131\"},{\"id\":\"4132\"}]},\"id\":\"4134\",\"type\":\"Toolbar\"}],\"root_ids\":[\"4108\"]},\"title\":\"Bokeh Application\",\"version\":\"2.4.3\"}};\n  const render_items = [{\"docid\":\"832c2a02-9d14-4aa3-9db0-2277bd796d48\",\"root_ids\":[\"4108\"],\"roots\":{\"4108\":\"756328c8-17d8-49c7-942f-fbf83f46cee0\"}}];\n  root.Bokeh.embed.embed_items_notebook(docs_json, render_items);\n  }\n  if (root.Bokeh !== undefined) {\n    embed_document(root);\n  } else {\n    let attempts = 0;\n    const timer = setInterval(function(root) {\n      if (root.Bokeh !== undefined) {\n        clearInterval(timer);\n        embed_document(root);\n      } else {\n        attempts++;\n        if (attempts > 100) {\n          clearInterval(timer);\n          console.log(\"Bokeh: ERROR: Unable to run BokehJS code because BokehJS library is missing\");\n        }\n      }\n    }, 10, root)\n  }\n})(window);",
      "application/vnd.bokehjs_exec.v0+json": ""
     },
     "metadata": {
      "application/vnd.bokehjs_exec.v0+json": {
       "id": "4108"
      }
     },
     "output_type": "display_data"
    }
   ],
   "source": [
    "run()"
   ]
  },
  {
   "cell_type": "code",
   "execution_count": null,
   "metadata": {},
   "outputs": [],
   "source": []
  }
 ],
 "metadata": {
  "kernelspec": {
   "display_name": "base",
   "language": "python",
   "name": "python3"
  },
  "language_info": {
   "codemirror_mode": {
    "name": "ipython",
    "version": 3
   },
   "file_extension": ".py",
   "mimetype": "text/x-python",
   "name": "python",
   "nbconvert_exporter": "python",
   "pygments_lexer": "ipython3",
   "version": "3.9.13"
  },
  "orig_nbformat": 4
 },
 "nbformat": 4,
 "nbformat_minor": 2
}
