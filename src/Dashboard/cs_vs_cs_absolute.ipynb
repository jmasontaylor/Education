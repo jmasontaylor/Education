{
 "cells": [
  {
   "cell_type": "code",
   "execution_count": 1,
   "metadata": {},
   "outputs": [
    {
     "data": {
      "text/html": [
       "<div class=\"bk-root\">\n",
       "        <a href=\"https://bokeh.org\" target=\"_blank\" class=\"bk-logo bk-logo-small bk-logo-notebook\"></a>\n",
       "        <span id=\"1002\">Loading BokehJS ...</span>\n",
       "    </div>\n"
      ]
     },
     "metadata": {},
     "output_type": "display_data"
    },
    {
     "data": {
      "application/javascript": "(function(root) {\n  function now() {\n    return new Date();\n  }\n\n  const force = true;\n\n  if (typeof root._bokeh_onload_callbacks === \"undefined\" || force === true) {\n    root._bokeh_onload_callbacks = [];\n    root._bokeh_is_loading = undefined;\n  }\n\nconst JS_MIME_TYPE = 'application/javascript';\n  const HTML_MIME_TYPE = 'text/html';\n  const EXEC_MIME_TYPE = 'application/vnd.bokehjs_exec.v0+json';\n  const CLASS_NAME = 'output_bokeh rendered_html';\n\n  /**\n   * Render data to the DOM node\n   */\n  function render(props, node) {\n    const script = document.createElement(\"script\");\n    node.appendChild(script);\n  }\n\n  /**\n   * Handle when an output is cleared or removed\n   */\n  function handleClearOutput(event, handle) {\n    const cell = handle.cell;\n\n    const id = cell.output_area._bokeh_element_id;\n    const server_id = cell.output_area._bokeh_server_id;\n    // Clean up Bokeh references\n    if (id != null && id in Bokeh.index) {\n      Bokeh.index[id].model.document.clear();\n      delete Bokeh.index[id];\n    }\n\n    if (server_id !== undefined) {\n      // Clean up Bokeh references\n      const cmd_clean = \"from bokeh.io.state import curstate; print(curstate().uuid_to_server['\" + server_id + \"'].get_sessions()[0].document.roots[0]._id)\";\n      cell.notebook.kernel.execute(cmd_clean, {\n        iopub: {\n          output: function(msg) {\n            const id = msg.content.text.trim();\n            if (id in Bokeh.index) {\n              Bokeh.index[id].model.document.clear();\n              delete Bokeh.index[id];\n            }\n          }\n        }\n      });\n      // Destroy server and session\n      const cmd_destroy = \"import bokeh.io.notebook as ion; ion.destroy_server('\" + server_id + \"')\";\n      cell.notebook.kernel.execute(cmd_destroy);\n    }\n  }\n\n  /**\n   * Handle when a new output is added\n   */\n  function handleAddOutput(event, handle) {\n    const output_area = handle.output_area;\n    const output = handle.output;\n\n    // limit handleAddOutput to display_data with EXEC_MIME_TYPE content only\n    if ((output.output_type != \"display_data\") || (!Object.prototype.hasOwnProperty.call(output.data, EXEC_MIME_TYPE))) {\n      return\n    }\n\n    const toinsert = output_area.element.find(\".\" + CLASS_NAME.split(' ')[0]);\n\n    if (output.metadata[EXEC_MIME_TYPE][\"id\"] !== undefined) {\n      toinsert[toinsert.length - 1].firstChild.textContent = output.data[JS_MIME_TYPE];\n      // store reference to embed id on output_area\n      output_area._bokeh_element_id = output.metadata[EXEC_MIME_TYPE][\"id\"];\n    }\n    if (output.metadata[EXEC_MIME_TYPE][\"server_id\"] !== undefined) {\n      const bk_div = document.createElement(\"div\");\n      bk_div.innerHTML = output.data[HTML_MIME_TYPE];\n      const script_attrs = bk_div.children[0].attributes;\n      for (let i = 0; i < script_attrs.length; i++) {\n        toinsert[toinsert.length - 1].firstChild.setAttribute(script_attrs[i].name, script_attrs[i].value);\n        toinsert[toinsert.length - 1].firstChild.textContent = bk_div.children[0].textContent\n      }\n      // store reference to server id on output_area\n      output_area._bokeh_server_id = output.metadata[EXEC_MIME_TYPE][\"server_id\"];\n    }\n  }\n\n  function register_renderer(events, OutputArea) {\n\n    function append_mime(data, metadata, element) {\n      // create a DOM node to render to\n      const toinsert = this.create_output_subarea(\n        metadata,\n        CLASS_NAME,\n        EXEC_MIME_TYPE\n      );\n      this.keyboard_manager.register_events(toinsert);\n      // Render to node\n      const props = {data: data, metadata: metadata[EXEC_MIME_TYPE]};\n      render(props, toinsert[toinsert.length - 1]);\n      element.append(toinsert);\n      return toinsert\n    }\n\n    /* Handle when an output is cleared or removed */\n    events.on('clear_output.CodeCell', handleClearOutput);\n    events.on('delete.Cell', handleClearOutput);\n\n    /* Handle when a new output is added */\n    events.on('output_added.OutputArea', handleAddOutput);\n\n    /**\n     * Register the mime type and append_mime function with output_area\n     */\n    OutputArea.prototype.register_mime_type(EXEC_MIME_TYPE, append_mime, {\n      /* Is output safe? */\n      safe: true,\n      /* Index of renderer in `output_area.display_order` */\n      index: 0\n    });\n  }\n\n  // register the mime type if in Jupyter Notebook environment and previously unregistered\n  if (root.Jupyter !== undefined) {\n    const events = require('base/js/events');\n    const OutputArea = require('notebook/js/outputarea').OutputArea;\n\n    if (OutputArea.prototype.mime_types().indexOf(EXEC_MIME_TYPE) == -1) {\n      register_renderer(events, OutputArea);\n    }\n  }\n  if (typeof (root._bokeh_timeout) === \"undefined\" || force === true) {\n    root._bokeh_timeout = Date.now() + 5000;\n    root._bokeh_failed_load = false;\n  }\n\n  const NB_LOAD_WARNING = {'data': {'text/html':\n     \"<div style='background-color: #fdd'>\\n\"+\n     \"<p>\\n\"+\n     \"BokehJS does not appear to have successfully loaded. If loading BokehJS from CDN, this \\n\"+\n     \"may be due to a slow or bad network connection. Possible fixes:\\n\"+\n     \"</p>\\n\"+\n     \"<ul>\\n\"+\n     \"<li>re-rerun `output_notebook()` to attempt to load from CDN again, or</li>\\n\"+\n     \"<li>use INLINE resources instead, as so:</li>\\n\"+\n     \"</ul>\\n\"+\n     \"<code>\\n\"+\n     \"from bokeh.resources import INLINE\\n\"+\n     \"output_notebook(resources=INLINE)\\n\"+\n     \"</code>\\n\"+\n     \"</div>\"}};\n\n  function display_loaded() {\n    const el = document.getElementById(\"1002\");\n    if (el != null) {\n      el.textContent = \"BokehJS is loading...\";\n    }\n    if (root.Bokeh !== undefined) {\n      if (el != null) {\n        el.textContent = \"BokehJS \" + root.Bokeh.version + \" successfully loaded.\";\n      }\n    } else if (Date.now() < root._bokeh_timeout) {\n      setTimeout(display_loaded, 100)\n    }\n  }\n\n  function run_callbacks() {\n    try {\n      root._bokeh_onload_callbacks.forEach(function(callback) {\n        if (callback != null)\n          callback();\n      });\n    } finally {\n      delete root._bokeh_onload_callbacks\n    }\n    console.debug(\"Bokeh: all callbacks have finished\");\n  }\n\n  function load_libs(css_urls, js_urls, callback) {\n    if (css_urls == null) css_urls = [];\n    if (js_urls == null) js_urls = [];\n\n    root._bokeh_onload_callbacks.push(callback);\n    if (root._bokeh_is_loading > 0) {\n      console.debug(\"Bokeh: BokehJS is being loaded, scheduling callback at\", now());\n      return null;\n    }\n    if (js_urls == null || js_urls.length === 0) {\n      run_callbacks();\n      return null;\n    }\n    console.debug(\"Bokeh: BokehJS not loaded, scheduling load and callback at\", now());\n    root._bokeh_is_loading = css_urls.length + js_urls.length;\n\n    function on_load() {\n      root._bokeh_is_loading--;\n      if (root._bokeh_is_loading === 0) {\n        console.debug(\"Bokeh: all BokehJS libraries/stylesheets loaded\");\n        run_callbacks()\n      }\n    }\n\n    function on_error(url) {\n      console.error(\"failed to load \" + url);\n    }\n\n    for (let i = 0; i < css_urls.length; i++) {\n      const url = css_urls[i];\n      const element = document.createElement(\"link\");\n      element.onload = on_load;\n      element.onerror = on_error.bind(null, url);\n      element.rel = \"stylesheet\";\n      element.type = \"text/css\";\n      element.href = url;\n      console.debug(\"Bokeh: injecting link tag for BokehJS stylesheet: \", url);\n      document.body.appendChild(element);\n    }\n\n    for (let i = 0; i < js_urls.length; i++) {\n      const url = js_urls[i];\n      const element = document.createElement('script');\n      element.onload = on_load;\n      element.onerror = on_error.bind(null, url);\n      element.async = false;\n      element.src = url;\n      console.debug(\"Bokeh: injecting script tag for BokehJS library: \", url);\n      document.head.appendChild(element);\n    }\n  };\n\n  function inject_raw_css(css) {\n    const element = document.createElement(\"style\");\n    element.appendChild(document.createTextNode(css));\n    document.body.appendChild(element);\n  }\n\n  const js_urls = [\"https://cdn.bokeh.org/bokeh/release/bokeh-2.4.3.min.js\", \"https://cdn.bokeh.org/bokeh/release/bokeh-gl-2.4.3.min.js\", \"https://cdn.bokeh.org/bokeh/release/bokeh-widgets-2.4.3.min.js\", \"https://cdn.bokeh.org/bokeh/release/bokeh-tables-2.4.3.min.js\", \"https://cdn.bokeh.org/bokeh/release/bokeh-mathjax-2.4.3.min.js\"];\n  const css_urls = [];\n\n  const inline_js = [    function(Bokeh) {\n      Bokeh.set_log_level(\"info\");\n    },\nfunction(Bokeh) {\n    }\n  ];\n\n  function run_inline_js() {\n    if (root.Bokeh !== undefined || force === true) {\n          for (let i = 0; i < inline_js.length; i++) {\n      inline_js[i].call(root, root.Bokeh);\n    }\nif (force === true) {\n        display_loaded();\n      }} else if (Date.now() < root._bokeh_timeout) {\n      setTimeout(run_inline_js, 100);\n    } else if (!root._bokeh_failed_load) {\n      console.log(\"Bokeh: BokehJS failed to load within specified timeout.\");\n      root._bokeh_failed_load = true;\n    } else if (force !== true) {\n      const cell = $(document.getElementById(\"1002\")).parents('.cell').data().cell;\n      cell.output_area.append_execute_result(NB_LOAD_WARNING)\n    }\n  }\n\n  if (root._bokeh_is_loading === 0) {\n    console.debug(\"Bokeh: BokehJS loaded, going straight to plotting\");\n    run_inline_js();\n  } else {\n    load_libs(css_urls, js_urls, function() {\n      console.debug(\"Bokeh: BokehJS plotting callback run at\", now());\n      run_inline_js();\n    });\n  }\n}(window));",
      "application/vnd.bokehjs_load.v0+json": ""
     },
     "metadata": {},
     "output_type": "display_data"
    }
   ],
   "source": [
    "\n",
    "import pandas as pd\n",
    "from matplotlib import pyplot as plt\n",
    "from glob import glob\n",
    "from scipy.stats import mannwhitneyu, ttest_ind\n",
    "from tqdm import tqdm\n",
    "import numpy as np \n",
    "import math\n",
    "import seaborn as sns\n",
    "from bokeh.io import output_notebook, show\n",
    "from bokeh.plotting import figure\n",
    "output_notebook()\n",
    "%matplotlib inline\n",
    "def process_unis():\n",
    "    unis = pd.read_csv('../../data/IPEDS/university_info/hd2021.csv', encoding='cp1252')\n",
    "    ## Preprocessing meta-data files\n",
    "    ### Updating names to match in rankings  \n",
    "    unis.loc[unis['IALIAS']=='Virginia Tech', 'INSTNM'] = 'Virginia Tech'\n",
    "    unis.loc[unis['INSTNM']=='University of Illinois Urbana-Champaign', 'INSTNM'] = 'University of Illinois at Urbana-Champaign'\n",
    "    unis.loc[(unis['INSTNM']==\"St. John's College\") & (unis['STABBR']=='MD'), 'INSTNM'] = \"St. John's College - MD\"\n",
    "    unis.loc[(unis['INSTNM']==\"St. John's College\") & (unis['STABBR']=='NM'), 'INSTNM'] = \"St. John's College - NM\"\n",
    "    unis.loc[unis['INSTNM']==\"William & Mary\", 'INSTNM'] = \"College of William and Mary\"\n",
    "    unis.loc[(unis['INSTNM']==\"Brigham Young University\") & (unis['CITY']=='Provo'), 'INSTNM'] = \"Brigham Young University-Provo\"\n",
    "    unis.loc[(unis['INSTNM']==\"The University of the South\") & (unis['CITY']=='Sewanee'), 'INSTNM'] = \"Sewanee - The University of the South\"\n",
    "        \n",
    "    return unis\n",
    "\n",
    "def process_completions(year):\n",
    "    completions = pd.read_csv('../../data/IPEDS/completions/c%s_a.csv' % year)\n",
    "    return completions\n",
    "# hard coded it because of assignment errors"
   ]
  },
  {
   "cell_type": "code",
   "execution_count": 2,
   "metadata": {},
   "outputs": [],
   "source": [
    "def startup():\n",
    "    all_unis = {}\n",
    "    all_completions = {}\n",
    "    for year in range(2008, 2022):\n",
    "        all_unis[year] = process_unis()\n",
    "        all_completions[year] = process_completions(year)\n",
    "    cols = ['UNITID', 'CTOTALW', 'CBKAAT', 'CHISPT']\n",
    "    colors = ['blue', 'green', 'red', 'orange', 'purple', 'navy']\n",
    "    return all_unis, all_completions, cols, colors"
   ]
  },
  {
   "cell_type": "code",
   "execution_count": 3,
   "metadata": {},
   "outputs": [],
   "source": [
    "def region_processing(uni_data, completion_data, region):\n",
    "    uni_boolmap = uni_data['OBEREG'] == region\n",
    "    region_unis = uni_data[uni_boolmap]\n",
    "    unitids = set(region_unis['UNITID'])\n",
    "    completion_boolmap = completion_data['UNITID'].apply(lambda x: x in unitids)\n",
    "    region_data = completion_data[completion_boolmap]\n",
    "    return region_data, region_unis"
   ]
  },
  {
   "cell_type": "code",
   "execution_count": 4,
   "metadata": {},
   "outputs": [],
   "source": [
    "def make_years(completions, unis, start, end):\n",
    "    years = {}\n",
    "    for year in range(start, end + 1):\n",
    "        year_completions, year_unis = unis[year], completions[year]\n",
    "        years[year] = [year_completions, year_unis]\n",
    "    return years"
   ]
  },
  {
   "cell_type": "code",
   "execution_count": 5,
   "metadata": {},
   "outputs": [],
   "source": [
    "# data is the dataframe already boolmapped with the proper data\n",
    "def groupTotals(years):\n",
    "    allStateCsData  = []\n",
    "    allStateNonCsData = []\n",
    "    for year in years:\n",
    "        unis, data = years[year]\n",
    "        csMerge, nonCsMerge = csVsNonCs(data, unis)\n",
    "        csMerge['year'] = year\n",
    "        nonCsMerge['year'] = year\n",
    "        allStateCsData.append(csMerge)\n",
    "        allStateNonCsData.append(nonCsMerge)\n",
    "    allStateCsData = pd.concat(allStateCsData)\n",
    "    allStateNonCsData = pd.concat(allStateNonCsData)\n",
    "    return allStateCsData, allStateNonCsData\n",
    "    \n",
    "        \n",
    "        \n",
    "def csVsNonCs(data, unis):\n",
    "    csBoolmap = data['CIPCODE'].apply(lambda x : x < 12 and x >= 11)\n",
    "    cs = data[csBoolmap]\n",
    "    csSum = cs.groupby('UNITID').sum()\n",
    "    csSum = csSum.reset_index()\n",
    "    uniqueIds = set(csSum['UNITID'].unique())\n",
    "    nonCs = data[data.apply(lambda x: x['UNITID'] in uniqueIds, axis = 1)]\n",
    "    nonCsSum = nonCs.groupby('UNITID').sum().reset_index()\n",
    "    cols = ['UNITID', 'CTOTALW', 'CBKAAT', 'CHISPT', 'CTOTALT']\n",
    "    csMerge = pd.merge(csSum[cols], unis[['UNITID', 'LONGITUD', 'LATITUDE']], on = 'UNITID', how='left')\n",
    "    nonCsMerge = pd.merge(nonCsSum[cols], unis[['UNITID', 'LONGITUD', 'LATITUDE']], on = 'UNITID', how='left')\n",
    "    return csMerge, nonCsMerge"
   ]
  },
  {
   "cell_type": "code",
   "execution_count": 6,
   "metadata": {},
   "outputs": [],
   "source": [
    "def make_percents(cs, nonCs):\n",
    "    cs = cs.set_index(['UNITID', 'year', 'LONGITUD', 'LATITUDE'])\n",
    "    nonCs = nonCs.set_index(['UNITID', 'year', 'LONGITUD', 'LATITUDE'])\n",
    "    cs = cs.apply(lambda x: x / x['CTOTALT'], axis = 1)\n",
    "    nonCs = nonCs.apply(lambda x: x / x['CTOTALT'], axis = 1)\n",
    "    cs = cs.reset_index()\n",
    "    nonCs = nonCs.reset_index()\n",
    "    return cs, nonCs"
   ]
  },
  {
   "cell_type": "code",
   "execution_count": 7,
   "metadata": {},
   "outputs": [],
   "source": [
    "def make_groups(cs, nonCs):\n",
    "    return cs.groupby('year').sum().reset_index(), nonCs.groupby('year').sum().reset_index()\n"
   ]
  },
  {
   "cell_type": "code",
   "execution_count": 8,
   "metadata": {},
   "outputs": [],
   "source": [
    "def cs_nonCs_difference(cs, nonCs):\n",
    "    cs = cs.set_index(['LONGITUD', 'LATITUDE', 'UNITID', 'year'])\n",
    "    nonCs = nonCs.set_index(['LONGITUD', 'LATITUDE', 'UNITID', 'year'])\n",
    "    difference = cs - nonCs\n",
    "    difference.columns = ['d_%s' % col for col in difference.columns]\n",
    "        \n",
    "    difference = difference.reset_index()\n",
    "    return difference"
   ]
  },
  {
   "cell_type": "code",
   "execution_count": 9,
   "metadata": {},
   "outputs": [],
   "source": [
    "def get_avg(data):\n",
    "    data = data.groupby('UNITID').mean()\n",
    "    return data.reset_index()"
   ]
  },
  {
   "cell_type": "code",
   "execution_count": 10,
   "metadata": {},
   "outputs": [],
   "source": [
    "def make_correlation_df(data, unis, demo):\n",
    "    correlation_df_merge = pd.merge(data[['UNITID', 'd_CTOTALW', 'd_CBKAAT', 'd_CHISPT']], unis, on='UNITID')\n",
    "    non_differences = correlation_df_merge.drop(['d_CTOTALW', 'd_CBKAAT', 'd_CHISPT'], axis=1)\n",
    "    correlations_df = non_differences.corrwith(correlation_df_merge[demo])\n",
    "    #correlations_df = correlation_df_merge[['d_CTOTALW', 'd_CBKAAT', 'd_CHISPT', 'd_CAIANT']].corrwith(non_differences, axis=0)\n",
    "    return correlations_df.dropna()\n",
    "    \n"
   ]
  },
  {
   "cell_type": "code",
   "execution_count": 31,
   "metadata": {},
   "outputs": [],
   "source": [
    "def csGraph(cs, cols, colors):\n",
    "    demos = ['Women', 'Black', 'Hispanic']\n",
    "    p=figure(width=800, height=400, title='Absolute Counts of Minorities in CS')\n",
    "    p.xaxis.axis_label='Year'\n",
    "    p.yaxis.axis_label='Percentage'\n",
    "    for i, demo in enumerate(cols[1:]):\n",
    "        p.line(cs['year'], cs[demo], legend_label=demos[i], line_color=colors[i])\n",
    "    p.legend.location='center'\n",
    "    p.add_layout(p.legend[0], 'right')\n",
    "    return p\n",
    "    "
   ]
  },
  {
   "cell_type": "code",
   "execution_count": 32,
   "metadata": {},
   "outputs": [],
   "source": [
    "def nonCsGraph(nonCs, cols, colors):\n",
    "    demos = ['Women', 'Black', 'Hispanic']\n",
    "    p=figure(width=800, height=400, title='Absolute Counts of Minorities in Non-CS')\n",
    "    for i, demo in enumerate(cols[1:]):\n",
    "        p.line(nonCs['year'], nonCs[demo], legend_label=demos[i], line_color=colors[i])\n",
    "    p.legend.location='center'\n",
    "    p.add_layout(p.legend[0], 'right')\n",
    "    return p"
   ]
  },
  {
   "cell_type": "code",
   "execution_count": 33,
   "metadata": {},
   "outputs": [],
   "source": [
    "def run():\n",
    "    all_unis, all_completion, cols, colors = startup()\n",
    "    years = make_years(all_completion, all_unis, 2011, 2021)\n",
    "    csTotal, nonCsTotal = groupTotals(years)\n",
    "    csTotal, nonCsTotal = make_groups(csTotal, nonCsTotal)\n",
    "    cs_graph = csGraph(csTotal, cols, colors)\n",
    "    nonCs_graph = nonCsGraph(nonCsTotal, cols, colors)\n",
    "    show(cs_graph)\n",
    "    show(nonCs_graph)\n",
    "    \n",
    "    "
   ]
  },
  {
   "cell_type": "code",
   "execution_count": 34,
   "metadata": {},
   "outputs": [
    {
     "data": {
      "text/html": [
       "\n",
       "  <div class=\"bk-root\" id=\"3fe878df-093e-4344-bcda-565068d62952\" data-root-id=\"3383\"></div>\n"
      ]
     },
     "metadata": {},
     "output_type": "display_data"
    },
    {
     "data": {
      "application/javascript": "(function(root) {\n  function embed_document(root) {\n  const docs_json = {\"2c513dd5-a9ce-45fd-aad8-5e4446a208ca\":{\"defs\":[],\"roots\":{\"references\":[{\"attributes\":{\"below\":[{\"id\":\"3394\"}],\"center\":[{\"id\":\"3397\"},{\"id\":\"3401\"},{\"id\":\"3432\"}],\"height\":400,\"left\":[{\"id\":\"3398\"}],\"renderers\":[{\"id\":\"3420\"},{\"id\":\"3438\"},{\"id\":\"3457\"}],\"right\":[{\"id\":\"3432\"}],\"title\":{\"id\":\"3384\"},\"toolbar\":{\"id\":\"3409\"},\"width\":800,\"x_range\":{\"id\":\"3386\"},\"x_scale\":{\"id\":\"3390\"},\"y_range\":{\"id\":\"3388\"},\"y_scale\":{\"id\":\"3392\"}},\"id\":\"3383\",\"subtype\":\"Figure\",\"type\":\"Plot\"},{\"attributes\":{\"label\":{\"value\":\"Black\"},\"renderers\":[{\"id\":\"3438\"}]},\"id\":\"3452\",\"type\":\"LegendItem\"},{\"attributes\":{\"data\":{\"x\":[2011,2012,2013,2014,2015,2016,2017,2018,2019,2020,2021],\"y\":[12269,13347,14743,16132,17415,17616,19487,21364,23436,25737,28318]},\"selected\":{\"id\":\"3471\"},\"selection_policy\":{\"id\":\"3470\"}},\"id\":\"3453\",\"type\":\"ColumnDataSource\"},{\"attributes\":{\"coordinates\":null,\"group\":null,\"items\":[{\"id\":\"3433\"},{\"id\":\"3452\"},{\"id\":\"3473\"}],\"location\":\"center\"},\"id\":\"3432\",\"type\":\"Legend\"},{\"attributes\":{},\"id\":\"3402\",\"type\":\"PanTool\"},{\"attributes\":{},\"id\":\"3425\",\"type\":\"AllLabels\"},{\"attributes\":{\"source\":{\"id\":\"3434\"}},\"id\":\"3439\",\"type\":\"CDSView\"},{\"attributes\":{\"line_color\":\"green\",\"x\":{\"field\":\"x\"},\"y\":{\"field\":\"y\"}},\"id\":\"3435\",\"type\":\"Line\"},{\"attributes\":{\"overlay\":{\"id\":\"3408\"}},\"id\":\"3404\",\"type\":\"BoxZoomTool\"},{\"attributes\":{\"coordinates\":null,\"data_source\":{\"id\":\"3453\"},\"glyph\":{\"id\":\"3454\"},\"group\":null,\"hover_glyph\":null,\"muted_glyph\":{\"id\":\"3456\"},\"nonselection_glyph\":{\"id\":\"3455\"},\"view\":{\"id\":\"3458\"}},\"id\":\"3457\",\"type\":\"GlyphRenderer\"},{\"attributes\":{},\"id\":\"3390\",\"type\":\"LinearScale\"},{\"attributes\":{\"label\":{\"value\":\"Women\"},\"renderers\":[{\"id\":\"3420\"}]},\"id\":\"3433\",\"type\":\"LegendItem\"},{\"attributes\":{},\"id\":\"3427\",\"type\":\"BasicTickFormatter\"},{\"attributes\":{},\"id\":\"3471\",\"type\":\"Selection\"},{\"attributes\":{\"bottom_units\":\"screen\",\"coordinates\":null,\"fill_alpha\":0.5,\"fill_color\":\"lightgrey\",\"group\":null,\"left_units\":\"screen\",\"level\":\"overlay\",\"line_alpha\":1.0,\"line_color\":\"black\",\"line_dash\":[4,4],\"line_width\":2,\"right_units\":\"screen\",\"syncable\":false,\"top_units\":\"screen\"},\"id\":\"3408\",\"type\":\"BoxAnnotation\"},{\"attributes\":{\"axis_label\":\"Percentage\",\"coordinates\":null,\"formatter\":{\"id\":\"3424\"},\"group\":null,\"major_label_policy\":{\"id\":\"3425\"},\"ticker\":{\"id\":\"3399\"}},\"id\":\"3398\",\"type\":\"LinearAxis\"},{\"attributes\":{},\"id\":\"3430\",\"type\":\"Selection\"},{\"attributes\":{\"line_alpha\":0.2,\"line_color\":\"green\",\"x\":{\"field\":\"x\"},\"y\":{\"field\":\"y\"}},\"id\":\"3437\",\"type\":\"Line\"},{\"attributes\":{},\"id\":\"3429\",\"type\":\"UnionRenderers\"},{\"attributes\":{},\"id\":\"3407\",\"type\":\"HelpTool\"},{\"attributes\":{},\"id\":\"3424\",\"type\":\"BasicTickFormatter\"},{\"attributes\":{\"source\":{\"id\":\"3453\"}},\"id\":\"3458\",\"type\":\"CDSView\"},{\"attributes\":{\"line_color\":\"blue\",\"x\":{\"field\":\"x\"},\"y\":{\"field\":\"y\"}},\"id\":\"3417\",\"type\":\"Line\"},{\"attributes\":{},\"id\":\"3405\",\"type\":\"SaveTool\"},{\"attributes\":{\"data\":{\"x\":[2011,2012,2013,2014,2015,2016,2017,2018,2019,2020,2021],\"y\":[31723,32580,33298,36264,39450,42569,47023,50032,53340,58549,64389]},\"selected\":{\"id\":\"3430\"},\"selection_policy\":{\"id\":\"3429\"}},\"id\":\"3416\",\"type\":\"ColumnDataSource\"},{\"attributes\":{},\"id\":\"3406\",\"type\":\"ResetTool\"},{\"attributes\":{\"data\":{\"x\":[2011,2012,2013,2014,2015,2016,2017,2018,2019,2020,2021],\"y\":[16668,16416,17828,18940,19133,17204,17997,19302,20687,22175,24971]},\"selected\":{\"id\":\"3450\"},\"selection_policy\":{\"id\":\"3449\"}},\"id\":\"3434\",\"type\":\"ColumnDataSource\"},{\"attributes\":{},\"id\":\"3399\",\"type\":\"BasicTicker\"},{\"attributes\":{},\"id\":\"3449\",\"type\":\"UnionRenderers\"},{\"attributes\":{\"axis_label\":\"Year\",\"coordinates\":null,\"formatter\":{\"id\":\"3427\"},\"group\":null,\"major_label_policy\":{\"id\":\"3428\"},\"ticker\":{\"id\":\"3395\"}},\"id\":\"3394\",\"type\":\"LinearAxis\"},{\"attributes\":{},\"id\":\"3470\",\"type\":\"UnionRenderers\"},{\"attributes\":{\"line_color\":\"red\",\"x\":{\"field\":\"x\"},\"y\":{\"field\":\"y\"}},\"id\":\"3454\",\"type\":\"Line\"},{\"attributes\":{\"coordinates\":null,\"data_source\":{\"id\":\"3434\"},\"glyph\":{\"id\":\"3435\"},\"group\":null,\"hover_glyph\":null,\"muted_glyph\":{\"id\":\"3437\"},\"nonselection_glyph\":{\"id\":\"3436\"},\"view\":{\"id\":\"3439\"}},\"id\":\"3438\",\"type\":\"GlyphRenderer\"},{\"attributes\":{\"source\":{\"id\":\"3416\"}},\"id\":\"3421\",\"type\":\"CDSView\"},{\"attributes\":{\"line_alpha\":0.1,\"line_color\":\"green\",\"x\":{\"field\":\"x\"},\"y\":{\"field\":\"y\"}},\"id\":\"3436\",\"type\":\"Line\"},{\"attributes\":{},\"id\":\"3388\",\"type\":\"DataRange1d\"},{\"attributes\":{},\"id\":\"3395\",\"type\":\"BasicTicker\"},{\"attributes\":{},\"id\":\"3392\",\"type\":\"LinearScale\"},{\"attributes\":{},\"id\":\"3428\",\"type\":\"AllLabels\"},{\"attributes\":{\"coordinates\":null,\"group\":null,\"text\":\"Absolute Counts of Minorities in CS\"},\"id\":\"3384\",\"type\":\"Title\"},{\"attributes\":{},\"id\":\"3450\",\"type\":\"Selection\"},{\"attributes\":{\"line_alpha\":0.2,\"line_color\":\"blue\",\"x\":{\"field\":\"x\"},\"y\":{\"field\":\"y\"}},\"id\":\"3419\",\"type\":\"Line\"},{\"attributes\":{\"axis\":{\"id\":\"3398\"},\"coordinates\":null,\"dimension\":1,\"group\":null,\"ticker\":null},\"id\":\"3401\",\"type\":\"Grid\"},{\"attributes\":{\"coordinates\":null,\"data_source\":{\"id\":\"3416\"},\"glyph\":{\"id\":\"3417\"},\"group\":null,\"hover_glyph\":null,\"muted_glyph\":{\"id\":\"3419\"},\"nonselection_glyph\":{\"id\":\"3418\"},\"view\":{\"id\":\"3421\"}},\"id\":\"3420\",\"type\":\"GlyphRenderer\"},{\"attributes\":{\"label\":{\"value\":\"Hispanic\"},\"renderers\":[{\"id\":\"3457\"}]},\"id\":\"3473\",\"type\":\"LegendItem\"},{\"attributes\":{\"tools\":[{\"id\":\"3402\"},{\"id\":\"3403\"},{\"id\":\"3404\"},{\"id\":\"3405\"},{\"id\":\"3406\"},{\"id\":\"3407\"}]},\"id\":\"3409\",\"type\":\"Toolbar\"},{\"attributes\":{},\"id\":\"3403\",\"type\":\"WheelZoomTool\"},{\"attributes\":{\"axis\":{\"id\":\"3394\"},\"coordinates\":null,\"group\":null,\"ticker\":null},\"id\":\"3397\",\"type\":\"Grid\"},{\"attributes\":{},\"id\":\"3386\",\"type\":\"DataRange1d\"},{\"attributes\":{\"line_alpha\":0.2,\"line_color\":\"red\",\"x\":{\"field\":\"x\"},\"y\":{\"field\":\"y\"}},\"id\":\"3456\",\"type\":\"Line\"},{\"attributes\":{\"line_alpha\":0.1,\"line_color\":\"blue\",\"x\":{\"field\":\"x\"},\"y\":{\"field\":\"y\"}},\"id\":\"3418\",\"type\":\"Line\"},{\"attributes\":{\"line_alpha\":0.1,\"line_color\":\"red\",\"x\":{\"field\":\"x\"},\"y\":{\"field\":\"y\"}},\"id\":\"3455\",\"type\":\"Line\"}],\"root_ids\":[\"3383\"]},\"title\":\"Bokeh Application\",\"version\":\"2.4.3\"}};\n  const render_items = [{\"docid\":\"2c513dd5-a9ce-45fd-aad8-5e4446a208ca\",\"root_ids\":[\"3383\"],\"roots\":{\"3383\":\"3fe878df-093e-4344-bcda-565068d62952\"}}];\n  root.Bokeh.embed.embed_items_notebook(docs_json, render_items);\n  }\n  if (root.Bokeh !== undefined) {\n    embed_document(root);\n  } else {\n    let attempts = 0;\n    const timer = setInterval(function(root) {\n      if (root.Bokeh !== undefined) {\n        clearInterval(timer);\n        embed_document(root);\n      } else {\n        attempts++;\n        if (attempts > 100) {\n          clearInterval(timer);\n          console.log(\"Bokeh: ERROR: Unable to run BokehJS code because BokehJS library is missing\");\n        }\n      }\n    }, 10, root)\n  }\n})(window);",
      "application/vnd.bokehjs_exec.v0+json": ""
     },
     "metadata": {
      "application/vnd.bokehjs_exec.v0+json": {
       "id": "3383"
      }
     },
     "output_type": "display_data"
    },
    {
     "data": {
      "text/html": [
       "\n",
       "  <div class=\"bk-root\" id=\"4370aa3e-f28b-47ec-838c-8c8c2e493471\" data-root-id=\"3474\"></div>\n"
      ]
     },
     "metadata": {},
     "output_type": "display_data"
    },
    {
     "data": {
      "application/javascript": "(function(root) {\n  function embed_document(root) {\n  const docs_json = {\"120b468a-7a03-4a79-9d0d-6e541a8d8a85\":{\"defs\":[],\"roots\":{\"references\":[{\"attributes\":{\"below\":[{\"id\":\"3485\"}],\"center\":[{\"id\":\"3488\"},{\"id\":\"3492\"},{\"id\":\"3523\"}],\"height\":400,\"left\":[{\"id\":\"3489\"}],\"renderers\":[{\"id\":\"3511\"},{\"id\":\"3529\"},{\"id\":\"3548\"}],\"right\":[{\"id\":\"3523\"}],\"title\":{\"id\":\"3475\"},\"toolbar\":{\"id\":\"3500\"},\"width\":800,\"x_range\":{\"id\":\"3477\"},\"x_scale\":{\"id\":\"3481\"},\"y_range\":{\"id\":\"3479\"},\"y_scale\":{\"id\":\"3483\"}},\"id\":\"3474\",\"subtype\":\"Figure\",\"type\":\"Plot\"},{\"attributes\":{\"line_color\":\"blue\",\"x\":{\"field\":\"x\"},\"y\":{\"field\":\"y\"}},\"id\":\"3508\",\"type\":\"Line\"},{\"attributes\":{},\"id\":\"3477\",\"type\":\"DataRange1d\"},{\"attributes\":{\"data\":{\"x\":[2011,2012,2013,2014,2015,2016,2017,2018,2019,2020,2021],\"y\":[875996,908272,910964,931912,949478,943322,950994,956826,968820,961604,998082]},\"selected\":{\"id\":\"3541\"},\"selection_policy\":{\"id\":\"3540\"}},\"id\":\"3525\",\"type\":\"ColumnDataSource\"},{\"attributes\":{\"coordinates\":null,\"formatter\":{\"id\":\"3515\"},\"group\":null,\"major_label_policy\":{\"id\":\"3516\"},\"ticker\":{\"id\":\"3490\"}},\"id\":\"3489\",\"type\":\"LinearAxis\"},{\"attributes\":{\"coordinates\":null,\"data_source\":{\"id\":\"3525\"},\"glyph\":{\"id\":\"3526\"},\"group\":null,\"hover_glyph\":null,\"muted_glyph\":{\"id\":\"3528\"},\"nonselection_glyph\":{\"id\":\"3527\"},\"view\":{\"id\":\"3530\"}},\"id\":\"3529\",\"type\":\"GlyphRenderer\"},{\"attributes\":{\"coordinates\":null,\"group\":null,\"text\":\"Absolute Counts of Minorities in Non-CS\"},\"id\":\"3475\",\"type\":\"Title\"},{\"attributes\":{\"source\":{\"id\":\"3507\"}},\"id\":\"3512\",\"type\":\"CDSView\"},{\"attributes\":{},\"id\":\"3483\",\"type\":\"LinearScale\"},{\"attributes\":{\"coordinates\":null,\"group\":null,\"items\":[{\"id\":\"3524\"},{\"id\":\"3543\"},{\"id\":\"3564\"}],\"location\":\"center\"},\"id\":\"3523\",\"type\":\"Legend\"},{\"attributes\":{\"line_alpha\":0.2,\"line_color\":\"green\",\"x\":{\"field\":\"x\"},\"y\":{\"field\":\"y\"}},\"id\":\"3528\",\"type\":\"Line\"},{\"attributes\":{},\"id\":\"3479\",\"type\":\"DataRange1d\"},{\"attributes\":{\"coordinates\":null,\"data_source\":{\"id\":\"3544\"},\"glyph\":{\"id\":\"3545\"},\"group\":null,\"hover_glyph\":null,\"muted_glyph\":{\"id\":\"3547\"},\"nonselection_glyph\":{\"id\":\"3546\"},\"view\":{\"id\":\"3549\"}},\"id\":\"3548\",\"type\":\"GlyphRenderer\"},{\"attributes\":{},\"id\":\"3486\",\"type\":\"BasicTicker\"},{\"attributes\":{\"axis\":{\"id\":\"3485\"},\"coordinates\":null,\"group\":null,\"ticker\":null},\"id\":\"3488\",\"type\":\"Grid\"},{\"attributes\":{\"source\":{\"id\":\"3525\"}},\"id\":\"3530\",\"type\":\"CDSView\"},{\"attributes\":{},\"id\":\"3481\",\"type\":\"LinearScale\"},{\"attributes\":{\"line_alpha\":0.1,\"line_color\":\"green\",\"x\":{\"field\":\"x\"},\"y\":{\"field\":\"y\"}},\"id\":\"3527\",\"type\":\"Line\"},{\"attributes\":{},\"id\":\"3518\",\"type\":\"BasicTickFormatter\"},{\"attributes\":{\"coordinates\":null,\"formatter\":{\"id\":\"3518\"},\"group\":null,\"major_label_policy\":{\"id\":\"3519\"},\"ticker\":{\"id\":\"3486\"}},\"id\":\"3485\",\"type\":\"LinearAxis\"},{\"attributes\":{\"line_alpha\":0.1,\"line_color\":\"blue\",\"x\":{\"field\":\"x\"},\"y\":{\"field\":\"y\"}},\"id\":\"3509\",\"type\":\"Line\"},{\"attributes\":{\"line_alpha\":0.2,\"line_color\":\"red\",\"x\":{\"field\":\"x\"},\"y\":{\"field\":\"y\"}},\"id\":\"3547\",\"type\":\"Line\"},{\"attributes\":{},\"id\":\"3498\",\"type\":\"HelpTool\"},{\"attributes\":{\"line_color\":\"green\",\"x\":{\"field\":\"x\"},\"y\":{\"field\":\"y\"}},\"id\":\"3526\",\"type\":\"Line\"},{\"attributes\":{\"source\":{\"id\":\"3544\"}},\"id\":\"3549\",\"type\":\"CDSView\"},{\"attributes\":{\"data\":{\"x\":[2011,2012,2013,2014,2015,2016,2017,2018,2019,2020,2021],\"y\":[815464,908978,981174,1058476,1133178,1227810,1318566,1424438,1540884,1603114,1685860]},\"selected\":{\"id\":\"3562\"},\"selection_policy\":{\"id\":\"3561\"}},\"id\":\"3544\",\"type\":\"ColumnDataSource\"},{\"attributes\":{\"line_alpha\":0.1,\"line_color\":\"red\",\"x\":{\"field\":\"x\"},\"y\":{\"field\":\"y\"}},\"id\":\"3546\",\"type\":\"Line\"},{\"attributes\":{\"axis\":{\"id\":\"3489\"},\"coordinates\":null,\"dimension\":1,\"group\":null,\"ticker\":null},\"id\":\"3492\",\"type\":\"Grid\"},{\"attributes\":{\"label\":{\"value\":\"Black\"},\"renderers\":[{\"id\":\"3529\"}]},\"id\":\"3543\",\"type\":\"LegendItem\"},{\"attributes\":{},\"id\":\"3490\",\"type\":\"BasicTicker\"},{\"attributes\":{},\"id\":\"3561\",\"type\":\"UnionRenderers\"},{\"attributes\":{},\"id\":\"3515\",\"type\":\"BasicTickFormatter\"},{\"attributes\":{\"line_alpha\":0.2,\"line_color\":\"blue\",\"x\":{\"field\":\"x\"},\"y\":{\"field\":\"y\"}},\"id\":\"3510\",\"type\":\"Line\"},{\"attributes\":{\"line_color\":\"red\",\"x\":{\"field\":\"x\"},\"y\":{\"field\":\"y\"}},\"id\":\"3545\",\"type\":\"Line\"},{\"attributes\":{},\"id\":\"3540\",\"type\":\"UnionRenderers\"},{\"attributes\":{\"data\":{\"x\":[2011,2012,2013,2014,2015,2016,2017,2018,2019,2020,2021],\"y\":[4637382,4807914,4838648,4905578,4962282,5017516,5112686,5248122,5407306,5493314,5690312]},\"selected\":{\"id\":\"3521\"},\"selection_policy\":{\"id\":\"3520\"}},\"id\":\"3507\",\"type\":\"ColumnDataSource\"},{\"attributes\":{},\"id\":\"3494\",\"type\":\"WheelZoomTool\"},{\"attributes\":{},\"id\":\"3493\",\"type\":\"PanTool\"},{\"attributes\":{},\"id\":\"3516\",\"type\":\"AllLabels\"},{\"attributes\":{\"label\":{\"value\":\"Hispanic\"},\"renderers\":[{\"id\":\"3548\"}]},\"id\":\"3564\",\"type\":\"LegendItem\"},{\"attributes\":{\"overlay\":{\"id\":\"3499\"}},\"id\":\"3495\",\"type\":\"BoxZoomTool\"},{\"attributes\":{},\"id\":\"3541\",\"type\":\"Selection\"},{\"attributes\":{},\"id\":\"3496\",\"type\":\"SaveTool\"},{\"attributes\":{},\"id\":\"3519\",\"type\":\"AllLabels\"},{\"attributes\":{},\"id\":\"3562\",\"type\":\"Selection\"},{\"attributes\":{},\"id\":\"3497\",\"type\":\"ResetTool\"},{\"attributes\":{\"bottom_units\":\"screen\",\"coordinates\":null,\"fill_alpha\":0.5,\"fill_color\":\"lightgrey\",\"group\":null,\"left_units\":\"screen\",\"level\":\"overlay\",\"line_alpha\":1.0,\"line_color\":\"black\",\"line_dash\":[4,4],\"line_width\":2,\"right_units\":\"screen\",\"syncable\":false,\"top_units\":\"screen\"},\"id\":\"3499\",\"type\":\"BoxAnnotation\"},{\"attributes\":{},\"id\":\"3520\",\"type\":\"UnionRenderers\"},{\"attributes\":{\"coordinates\":null,\"data_source\":{\"id\":\"3507\"},\"glyph\":{\"id\":\"3508\"},\"group\":null,\"hover_glyph\":null,\"muted_glyph\":{\"id\":\"3510\"},\"nonselection_glyph\":{\"id\":\"3509\"},\"view\":{\"id\":\"3512\"}},\"id\":\"3511\",\"type\":\"GlyphRenderer\"},{\"attributes\":{},\"id\":\"3521\",\"type\":\"Selection\"},{\"attributes\":{\"label\":{\"value\":\"Women\"},\"renderers\":[{\"id\":\"3511\"}]},\"id\":\"3524\",\"type\":\"LegendItem\"},{\"attributes\":{\"tools\":[{\"id\":\"3493\"},{\"id\":\"3494\"},{\"id\":\"3495\"},{\"id\":\"3496\"},{\"id\":\"3497\"},{\"id\":\"3498\"}]},\"id\":\"3500\",\"type\":\"Toolbar\"}],\"root_ids\":[\"3474\"]},\"title\":\"Bokeh Application\",\"version\":\"2.4.3\"}};\n  const render_items = [{\"docid\":\"120b468a-7a03-4a79-9d0d-6e541a8d8a85\",\"root_ids\":[\"3474\"],\"roots\":{\"3474\":\"4370aa3e-f28b-47ec-838c-8c8c2e493471\"}}];\n  root.Bokeh.embed.embed_items_notebook(docs_json, render_items);\n  }\n  if (root.Bokeh !== undefined) {\n    embed_document(root);\n  } else {\n    let attempts = 0;\n    const timer = setInterval(function(root) {\n      if (root.Bokeh !== undefined) {\n        clearInterval(timer);\n        embed_document(root);\n      } else {\n        attempts++;\n        if (attempts > 100) {\n          clearInterval(timer);\n          console.log(\"Bokeh: ERROR: Unable to run BokehJS code because BokehJS library is missing\");\n        }\n      }\n    }, 10, root)\n  }\n})(window);",
      "application/vnd.bokehjs_exec.v0+json": ""
     },
     "metadata": {
      "application/vnd.bokehjs_exec.v0+json": {
       "id": "3474"
      }
     },
     "output_type": "display_data"
    }
   ],
   "source": [
    "run()"
   ]
  },
  {
   "cell_type": "code",
   "execution_count": null,
   "metadata": {},
   "outputs": [],
   "source": []
  }
 ],
 "metadata": {
  "kernelspec": {
   "display_name": "base",
   "language": "python",
   "name": "python3"
  },
  "language_info": {
   "codemirror_mode": {
    "name": "ipython",
    "version": 3
   },
   "file_extension": ".py",
   "mimetype": "text/x-python",
   "name": "python",
   "nbconvert_exporter": "python",
   "pygments_lexer": "ipython3",
   "version": "3.9.13"
  },
  "orig_nbformat": 4
 },
 "nbformat": 4,
 "nbformat_minor": 2
}
