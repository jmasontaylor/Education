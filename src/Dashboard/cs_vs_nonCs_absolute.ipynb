{
 "cells": [
  {
   "cell_type": "code",
   "execution_count": 5,
   "metadata": {},
   "outputs": [
    {
     "data": {
      "text/html": [
       "<div class=\"bk-root\">\n",
       "        <a href=\"https://bokeh.org\" target=\"_blank\" class=\"bk-logo bk-logo-small bk-logo-notebook\"></a>\n",
       "        <span id=\"1002\">Loading BokehJS ...</span>\n",
       "    </div>\n"
      ]
     },
     "metadata": {},
     "output_type": "display_data"
    },
    {
     "data": {
      "application/javascript": "(function(root) {\n  function now() {\n    return new Date();\n  }\n\n  const force = true;\n\n  if (typeof root._bokeh_onload_callbacks === \"undefined\" || force === true) {\n    root._bokeh_onload_callbacks = [];\n    root._bokeh_is_loading = undefined;\n  }\n\nconst JS_MIME_TYPE = 'application/javascript';\n  const HTML_MIME_TYPE = 'text/html';\n  const EXEC_MIME_TYPE = 'application/vnd.bokehjs_exec.v0+json';\n  const CLASS_NAME = 'output_bokeh rendered_html';\n\n  /**\n   * Render data to the DOM node\n   */\n  function render(props, node) {\n    const script = document.createElement(\"script\");\n    node.appendChild(script);\n  }\n\n  /**\n   * Handle when an output is cleared or removed\n   */\n  function handleClearOutput(event, handle) {\n    const cell = handle.cell;\n\n    const id = cell.output_area._bokeh_element_id;\n    const server_id = cell.output_area._bokeh_server_id;\n    // Clean up Bokeh references\n    if (id != null && id in Bokeh.index) {\n      Bokeh.index[id].model.document.clear();\n      delete Bokeh.index[id];\n    }\n\n    if (server_id !== undefined) {\n      // Clean up Bokeh references\n      const cmd_clean = \"from bokeh.io.state import curstate; print(curstate().uuid_to_server['\" + server_id + \"'].get_sessions()[0].document.roots[0]._id)\";\n      cell.notebook.kernel.execute(cmd_clean, {\n        iopub: {\n          output: function(msg) {\n            const id = msg.content.text.trim();\n            if (id in Bokeh.index) {\n              Bokeh.index[id].model.document.clear();\n              delete Bokeh.index[id];\n            }\n          }\n        }\n      });\n      // Destroy server and session\n      const cmd_destroy = \"import bokeh.io.notebook as ion; ion.destroy_server('\" + server_id + \"')\";\n      cell.notebook.kernel.execute(cmd_destroy);\n    }\n  }\n\n  /**\n   * Handle when a new output is added\n   */\n  function handleAddOutput(event, handle) {\n    const output_area = handle.output_area;\n    const output = handle.output;\n\n    // limit handleAddOutput to display_data with EXEC_MIME_TYPE content only\n    if ((output.output_type != \"display_data\") || (!Object.prototype.hasOwnProperty.call(output.data, EXEC_MIME_TYPE))) {\n      return\n    }\n\n    const toinsert = output_area.element.find(\".\" + CLASS_NAME.split(' ')[0]);\n\n    if (output.metadata[EXEC_MIME_TYPE][\"id\"] !== undefined) {\n      toinsert[toinsert.length - 1].firstChild.textContent = output.data[JS_MIME_TYPE];\n      // store reference to embed id on output_area\n      output_area._bokeh_element_id = output.metadata[EXEC_MIME_TYPE][\"id\"];\n    }\n    if (output.metadata[EXEC_MIME_TYPE][\"server_id\"] !== undefined) {\n      const bk_div = document.createElement(\"div\");\n      bk_div.innerHTML = output.data[HTML_MIME_TYPE];\n      const script_attrs = bk_div.children[0].attributes;\n      for (let i = 0; i < script_attrs.length; i++) {\n        toinsert[toinsert.length - 1].firstChild.setAttribute(script_attrs[i].name, script_attrs[i].value);\n        toinsert[toinsert.length - 1].firstChild.textContent = bk_div.children[0].textContent\n      }\n      // store reference to server id on output_area\n      output_area._bokeh_server_id = output.metadata[EXEC_MIME_TYPE][\"server_id\"];\n    }\n  }\n\n  function register_renderer(events, OutputArea) {\n\n    function append_mime(data, metadata, element) {\n      // create a DOM node to render to\n      const toinsert = this.create_output_subarea(\n        metadata,\n        CLASS_NAME,\n        EXEC_MIME_TYPE\n      );\n      this.keyboard_manager.register_events(toinsert);\n      // Render to node\n      const props = {data: data, metadata: metadata[EXEC_MIME_TYPE]};\n      render(props, toinsert[toinsert.length - 1]);\n      element.append(toinsert);\n      return toinsert\n    }\n\n    /* Handle when an output is cleared or removed */\n    events.on('clear_output.CodeCell', handleClearOutput);\n    events.on('delete.Cell', handleClearOutput);\n\n    /* Handle when a new output is added */\n    events.on('output_added.OutputArea', handleAddOutput);\n\n    /**\n     * Register the mime type and append_mime function with output_area\n     */\n    OutputArea.prototype.register_mime_type(EXEC_MIME_TYPE, append_mime, {\n      /* Is output safe? */\n      safe: true,\n      /* Index of renderer in `output_area.display_order` */\n      index: 0\n    });\n  }\n\n  // register the mime type if in Jupyter Notebook environment and previously unregistered\n  if (root.Jupyter !== undefined) {\n    const events = require('base/js/events');\n    const OutputArea = require('notebook/js/outputarea').OutputArea;\n\n    if (OutputArea.prototype.mime_types().indexOf(EXEC_MIME_TYPE) == -1) {\n      register_renderer(events, OutputArea);\n    }\n  }\n  if (typeof (root._bokeh_timeout) === \"undefined\" || force === true) {\n    root._bokeh_timeout = Date.now() + 5000;\n    root._bokeh_failed_load = false;\n  }\n\n  const NB_LOAD_WARNING = {'data': {'text/html':\n     \"<div style='background-color: #fdd'>\\n\"+\n     \"<p>\\n\"+\n     \"BokehJS does not appear to have successfully loaded. If loading BokehJS from CDN, this \\n\"+\n     \"may be due to a slow or bad network connection. Possible fixes:\\n\"+\n     \"</p>\\n\"+\n     \"<ul>\\n\"+\n     \"<li>re-rerun `output_notebook()` to attempt to load from CDN again, or</li>\\n\"+\n     \"<li>use INLINE resources instead, as so:</li>\\n\"+\n     \"</ul>\\n\"+\n     \"<code>\\n\"+\n     \"from bokeh.resources import INLINE\\n\"+\n     \"output_notebook(resources=INLINE)\\n\"+\n     \"</code>\\n\"+\n     \"</div>\"}};\n\n  function display_loaded() {\n    const el = document.getElementById(\"1002\");\n    if (el != null) {\n      el.textContent = \"BokehJS is loading...\";\n    }\n    if (root.Bokeh !== undefined) {\n      if (el != null) {\n        el.textContent = \"BokehJS \" + root.Bokeh.version + \" successfully loaded.\";\n      }\n    } else if (Date.now() < root._bokeh_timeout) {\n      setTimeout(display_loaded, 100)\n    }\n  }\n\n  function run_callbacks() {\n    try {\n      root._bokeh_onload_callbacks.forEach(function(callback) {\n        if (callback != null)\n          callback();\n      });\n    } finally {\n      delete root._bokeh_onload_callbacks\n    }\n    console.debug(\"Bokeh: all callbacks have finished\");\n  }\n\n  function load_libs(css_urls, js_urls, callback) {\n    if (css_urls == null) css_urls = [];\n    if (js_urls == null) js_urls = [];\n\n    root._bokeh_onload_callbacks.push(callback);\n    if (root._bokeh_is_loading > 0) {\n      console.debug(\"Bokeh: BokehJS is being loaded, scheduling callback at\", now());\n      return null;\n    }\n    if (js_urls == null || js_urls.length === 0) {\n      run_callbacks();\n      return null;\n    }\n    console.debug(\"Bokeh: BokehJS not loaded, scheduling load and callback at\", now());\n    root._bokeh_is_loading = css_urls.length + js_urls.length;\n\n    function on_load() {\n      root._bokeh_is_loading--;\n      if (root._bokeh_is_loading === 0) {\n        console.debug(\"Bokeh: all BokehJS libraries/stylesheets loaded\");\n        run_callbacks()\n      }\n    }\n\n    function on_error(url) {\n      console.error(\"failed to load \" + url);\n    }\n\n    for (let i = 0; i < css_urls.length; i++) {\n      const url = css_urls[i];\n      const element = document.createElement(\"link\");\n      element.onload = on_load;\n      element.onerror = on_error.bind(null, url);\n      element.rel = \"stylesheet\";\n      element.type = \"text/css\";\n      element.href = url;\n      console.debug(\"Bokeh: injecting link tag for BokehJS stylesheet: \", url);\n      document.body.appendChild(element);\n    }\n\n    for (let i = 0; i < js_urls.length; i++) {\n      const url = js_urls[i];\n      const element = document.createElement('script');\n      element.onload = on_load;\n      element.onerror = on_error.bind(null, url);\n      element.async = false;\n      element.src = url;\n      console.debug(\"Bokeh: injecting script tag for BokehJS library: \", url);\n      document.head.appendChild(element);\n    }\n  };\n\n  function inject_raw_css(css) {\n    const element = document.createElement(\"style\");\n    element.appendChild(document.createTextNode(css));\n    document.body.appendChild(element);\n  }\n\n  const js_urls = [\"https://cdn.bokeh.org/bokeh/release/bokeh-2.4.3.min.js\", \"https://cdn.bokeh.org/bokeh/release/bokeh-gl-2.4.3.min.js\", \"https://cdn.bokeh.org/bokeh/release/bokeh-widgets-2.4.3.min.js\", \"https://cdn.bokeh.org/bokeh/release/bokeh-tables-2.4.3.min.js\", \"https://cdn.bokeh.org/bokeh/release/bokeh-mathjax-2.4.3.min.js\"];\n  const css_urls = [];\n\n  const inline_js = [    function(Bokeh) {\n      Bokeh.set_log_level(\"info\");\n    },\nfunction(Bokeh) {\n    }\n  ];\n\n  function run_inline_js() {\n    if (root.Bokeh !== undefined || force === true) {\n          for (let i = 0; i < inline_js.length; i++) {\n      inline_js[i].call(root, root.Bokeh);\n    }\nif (force === true) {\n        display_loaded();\n      }} else if (Date.now() < root._bokeh_timeout) {\n      setTimeout(run_inline_js, 100);\n    } else if (!root._bokeh_failed_load) {\n      console.log(\"Bokeh: BokehJS failed to load within specified timeout.\");\n      root._bokeh_failed_load = true;\n    } else if (force !== true) {\n      const cell = $(document.getElementById(\"1002\")).parents('.cell').data().cell;\n      cell.output_area.append_execute_result(NB_LOAD_WARNING)\n    }\n  }\n\n  if (root._bokeh_is_loading === 0) {\n    console.debug(\"Bokeh: BokehJS loaded, going straight to plotting\");\n    run_inline_js();\n  } else {\n    load_libs(css_urls, js_urls, function() {\n      console.debug(\"Bokeh: BokehJS plotting callback run at\", now());\n      run_inline_js();\n    });\n  }\n}(window));",
      "application/vnd.bokehjs_load.v0+json": ""
     },
     "metadata": {},
     "output_type": "display_data"
    }
   ],
   "source": [
    "\n",
    "import pandas as pd\n",
    "from matplotlib import pyplot as plt\n",
    "from glob import glob\n",
    "from scipy.stats import mannwhitneyu, ttest_ind\n",
    "from tqdm import tqdm\n",
    "import numpy as np \n",
    "import math\n",
    "import seaborn as sns\n",
    "from bokeh.io import output_notebook, show\n",
    "from bokeh.plotting import figure\n",
    "output_notebook()\n",
    "%matplotlib inline\n",
    "def process_unis():\n",
    "    unis = pd.read_csv('../../data/IPEDS/university_info/hd2021.csv', encoding='cp1252')\n",
    "    ## Preprocessing meta-data files\n",
    "    ### Updating names to match in rankings  \n",
    "    unis.loc[unis['IALIAS']=='Virginia Tech', 'INSTNM'] = 'Virginia Tech'\n",
    "    unis.loc[unis['INSTNM']=='University of Illinois Urbana-Champaign', 'INSTNM'] = 'University of Illinois at Urbana-Champaign'\n",
    "    unis.loc[(unis['INSTNM']==\"St. John's College\") & (unis['STABBR']=='MD'), 'INSTNM'] = \"St. John's College - MD\"\n",
    "    unis.loc[(unis['INSTNM']==\"St. John's College\") & (unis['STABBR']=='NM'), 'INSTNM'] = \"St. John's College - NM\"\n",
    "    unis.loc[unis['INSTNM']==\"William & Mary\", 'INSTNM'] = \"College of William and Mary\"\n",
    "    unis.loc[(unis['INSTNM']==\"Brigham Young University\") & (unis['CITY']=='Provo'), 'INSTNM'] = \"Brigham Young University-Provo\"\n",
    "    unis.loc[(unis['INSTNM']==\"The University of the South\") & (unis['CITY']=='Sewanee'), 'INSTNM'] = \"Sewanee - The University of the South\"\n",
    "        \n",
    "    return unis\n",
    "\n",
    "def process_completions(year):\n",
    "    completions = pd.read_csv('../../data/IPEDS/completions/c%s_a.csv' % year)\n",
    "    return completions\n",
    "# hard coded it because of assignment errors"
   ]
  },
  {
   "cell_type": "code",
   "execution_count": 6,
   "metadata": {},
   "outputs": [],
   "source": [
    "def startup():\n",
    "    all_unis = {}\n",
    "    all_completions = {}\n",
    "    for year in range(2008, 2022):\n",
    "        all_unis[year] = process_unis()\n",
    "        all_completions[year] = process_completions(year)\n",
    "    cols = ['UNITID', 'CTOTALW', 'CBKAAT', 'CHISPT']\n",
    "    colors = ['blue', 'green', 'red', 'orange', 'purple', 'navy']\n",
    "    return all_unis, all_completions, cols, colors"
   ]
  },
  {
   "cell_type": "code",
   "execution_count": 7,
   "metadata": {},
   "outputs": [],
   "source": [
    "def region_processing(uni_data, completion_data, region):\n",
    "    uni_boolmap = uni_data['OBEREG'] == region\n",
    "    region_unis = uni_data[uni_boolmap]\n",
    "    unitids = set(region_unis['UNITID'])\n",
    "    completion_boolmap = completion_data['UNITID'].apply(lambda x: x in unitids)\n",
    "    region_data = completion_data[completion_boolmap]\n",
    "    return region_data, region_unis"
   ]
  },
  {
   "cell_type": "code",
   "execution_count": 8,
   "metadata": {},
   "outputs": [],
   "source": [
    "def make_years(completions, unis, start, end):\n",
    "    years = {}\n",
    "    for year in range(start, end + 1):\n",
    "        year_completions, year_unis = unis[year], completions[year]\n",
    "        years[year] = [year_completions, year_unis]\n",
    "    return years"
   ]
  },
  {
   "cell_type": "code",
   "execution_count": 9,
   "metadata": {},
   "outputs": [],
   "source": [
    "# data is the dataframe already boolmapped with the proper data\n",
    "def groupTotals(years):\n",
    "    allStateCsData  = []\n",
    "    allStateNonCsData = []\n",
    "    for year in years:\n",
    "        unis, data = years[year]\n",
    "        csMerge, nonCsMerge = csVsNonCs(data, unis)\n",
    "        csMerge['year'] = year\n",
    "        nonCsMerge['year'] = year\n",
    "        allStateCsData.append(csMerge)\n",
    "        allStateNonCsData.append(nonCsMerge)\n",
    "    allStateCsData = pd.concat(allStateCsData)\n",
    "    allStateNonCsData = pd.concat(allStateNonCsData)\n",
    "    return allStateCsData, allStateNonCsData\n",
    "    \n",
    "        \n",
    "        \n",
    "def csVsNonCs(data, unis):\n",
    "    csBoolmap = data['CIPCODE'].apply(lambda x : x < 12 and x >= 11)\n",
    "    cs = data[csBoolmap]\n",
    "    csSum = cs.groupby('UNITID').sum()\n",
    "    csSum = csSum.reset_index()\n",
    "    uniqueIds = set(csSum['UNITID'].unique())\n",
    "    nonCs = data[data.apply(lambda x: x['UNITID'] in uniqueIds, axis = 1)]\n",
    "    nonCsSum = nonCs.groupby('UNITID').sum().reset_index()\n",
    "    cols = ['UNITID', 'CTOTALW', 'CBKAAT', 'CHISPT', 'CTOTALT']\n",
    "    csMerge = pd.merge(csSum[cols], unis[['UNITID', 'LONGITUD', 'LATITUDE']], on = 'UNITID', how='left')\n",
    "    nonCsMerge = pd.merge(nonCsSum[cols], unis[['UNITID', 'LONGITUD', 'LATITUDE']], on = 'UNITID', how='left')\n",
    "    return csMerge, nonCsMerge"
   ]
  },
  {
   "cell_type": "code",
   "execution_count": 10,
   "metadata": {},
   "outputs": [],
   "source": [
    "def make_percents(cs, nonCs):\n",
    "    cs = cs.set_index(['UNITID', 'year', 'LONGITUD', 'LATITUDE'])\n",
    "    nonCs = nonCs.set_index(['UNITID', 'year', 'LONGITUD', 'LATITUDE'])\n",
    "    cs = cs.apply(lambda x: x / x['CTOTALT'], axis = 1)\n",
    "    nonCs = nonCs.apply(lambda x: x / x['CTOTALT'], axis = 1)\n",
    "    cs = cs.reset_index()\n",
    "    nonCs = nonCs.reset_index()\n",
    "    return cs, nonCs"
   ]
  },
  {
   "cell_type": "code",
   "execution_count": 11,
   "metadata": {},
   "outputs": [],
   "source": [
    "def make_groups(cs, nonCs):\n",
    "    return cs.groupby('year').sum().reset_index(), nonCs.groupby('year').sum().reset_index()\n"
   ]
  },
  {
   "cell_type": "code",
   "execution_count": 12,
   "metadata": {},
   "outputs": [],
   "source": [
    "def cs_nonCs_difference(cs, nonCs):\n",
    "    cs = cs.set_index(['LONGITUD', 'LATITUDE', 'UNITID', 'year'])\n",
    "    nonCs = nonCs.set_index(['LONGITUD', 'LATITUDE', 'UNITID', 'year'])\n",
    "    difference = cs - nonCs\n",
    "    difference.columns = ['d_%s' % col for col in difference.columns]\n",
    "        \n",
    "    difference = difference.reset_index()\n",
    "    return difference"
   ]
  },
  {
   "cell_type": "code",
   "execution_count": 13,
   "metadata": {},
   "outputs": [],
   "source": [
    "def get_avg(data):\n",
    "    data = data.groupby('UNITID').mean()\n",
    "    return data.reset_index()"
   ]
  },
  {
   "cell_type": "code",
   "execution_count": 14,
   "metadata": {},
   "outputs": [],
   "source": [
    "def make_correlation_df(data, unis, demo):\n",
    "    correlation_df_merge = pd.merge(data[['UNITID', 'd_CTOTALW', 'd_CBKAAT', 'd_CHISPT']], unis, on='UNITID')\n",
    "    non_differences = correlation_df_merge.drop(['d_CTOTALW', 'd_CBKAAT', 'd_CHISPT'], axis=1)\n",
    "    correlations_df = non_differences.corrwith(correlation_df_merge[demo])\n",
    "    #correlations_df = correlation_df_merge[['d_CTOTALW', 'd_CBKAAT', 'd_CHISPT', 'd_CAIANT']].corrwith(non_differences, axis=0)\n",
    "    return correlations_df.dropna()\n",
    "    \n"
   ]
  },
  {
   "cell_type": "code",
   "execution_count": 15,
   "metadata": {},
   "outputs": [],
   "source": [
    "def graph(cs, nonCs, cols, colors):\n",
    "    demos = ['Women', 'Black', 'Hispanic']\n",
    "    for i, demo in enumerate(cols[1:]):\n",
    "        p=figure(width=800, height=400, title='CS vs Non-CS %s Percentage'%demos[i])\n",
    "        p.line(cs['year'], cs[demo], legend_label='CS', line_color=colors[0])\n",
    "        p.line(nonCs['year'], nonCs[demo], legend_label='Non-CS', line_color=colors[1])\n",
    "        p.legend.location='center'\n",
    "        p.add_layout(p.legend[0], 'right')\n",
    "        show(p)"
   ]
  },
  {
   "cell_type": "code",
   "execution_count": 16,
   "metadata": {},
   "outputs": [],
   "source": [
    "def run():\n",
    "    all_unis, all_completion, cols, colors = startup()\n",
    "    years = make_years(all_completion, all_unis, 2011, 2021)\n",
    "    csTotal, nonCsTotal = groupTotals(years)\n",
    "    csTotal, nonCsTotal = make_groups(csTotal, nonCsTotal)\n",
    "    graph(csTotal, nonCsTotal, cols, colors)\n",
    "    "
   ]
  },
  {
   "cell_type": "code",
   "execution_count": 17,
   "metadata": {},
   "outputs": [
    {
     "data": {
      "text/html": [
       "\n",
       "  <div class=\"bk-root\" id=\"9f67f6ae-898b-4ad8-b43b-5aaec0a8f57b\" data-root-id=\"1003\"></div>\n"
      ]
     },
     "metadata": {},
     "output_type": "display_data"
    },
    {
     "data": {
      "application/javascript": "(function(root) {\n  function embed_document(root) {\n  const docs_json = {\"49b420cd-415a-4646-b6f4-44f1a4e76ac0\":{\"defs\":[],\"roots\":{\"references\":[{\"attributes\":{\"below\":[{\"id\":\"1014\"}],\"center\":[{\"id\":\"1017\"},{\"id\":\"1021\"},{\"id\":\"1052\"}],\"height\":400,\"left\":[{\"id\":\"1018\"}],\"renderers\":[{\"id\":\"1040\"},{\"id\":\"1058\"}],\"right\":[{\"id\":\"1052\"}],\"title\":{\"id\":\"1004\"},\"toolbar\":{\"id\":\"1029\"},\"width\":800,\"x_range\":{\"id\":\"1006\"},\"x_scale\":{\"id\":\"1010\"},\"y_range\":{\"id\":\"1008\"},\"y_scale\":{\"id\":\"1012\"}},\"id\":\"1003\",\"subtype\":\"Figure\",\"type\":\"Plot\"},{\"attributes\":{},\"id\":\"1069\",\"type\":\"UnionRenderers\"},{\"attributes\":{\"axis\":{\"id\":\"1014\"},\"coordinates\":null,\"group\":null,\"ticker\":null},\"id\":\"1017\",\"type\":\"Grid\"},{\"attributes\":{\"source\":{\"id\":\"1036\"}},\"id\":\"1041\",\"type\":\"CDSView\"},{\"attributes\":{\"data\":{\"x\":[2011,2012,2013,2014,2015,2016,2017,2018,2019,2020,2021],\"y\":[4637382,4807914,4838648,4905578,4962282,5017516,5112686,5248122,5407306,5493314,5690312]},\"selected\":{\"id\":\"1070\"},\"selection_policy\":{\"id\":\"1069\"}},\"id\":\"1054\",\"type\":\"ColumnDataSource\"},{\"attributes\":{},\"id\":\"1050\",\"type\":\"Selection\"},{\"attributes\":{\"line_color\":\"blue\",\"x\":{\"field\":\"x\"},\"y\":{\"field\":\"y\"}},\"id\":\"1037\",\"type\":\"Line\"},{\"attributes\":{\"coordinates\":null,\"formatter\":{\"id\":\"1044\"},\"group\":null,\"major_label_policy\":{\"id\":\"1045\"},\"ticker\":{\"id\":\"1019\"}},\"id\":\"1018\",\"type\":\"LinearAxis\"},{\"attributes\":{\"data\":{\"x\":[2011,2012,2013,2014,2015,2016,2017,2018,2019,2020,2021],\"y\":[31723,32580,33298,36264,39450,42569,47023,50032,53340,58549,64389]},\"selected\":{\"id\":\"1050\"},\"selection_policy\":{\"id\":\"1049\"}},\"id\":\"1036\",\"type\":\"ColumnDataSource\"},{\"attributes\":{},\"id\":\"1015\",\"type\":\"BasicTicker\"},{\"attributes\":{\"line_color\":\"green\",\"x\":{\"field\":\"x\"},\"y\":{\"field\":\"y\"}},\"id\":\"1055\",\"type\":\"Line\"},{\"attributes\":{\"overlay\":{\"id\":\"1028\"}},\"id\":\"1024\",\"type\":\"BoxZoomTool\"},{\"attributes\":{},\"id\":\"1008\",\"type\":\"DataRange1d\"},{\"attributes\":{},\"id\":\"1045\",\"type\":\"AllLabels\"},{\"attributes\":{\"line_alpha\":0.1,\"line_color\":\"green\",\"x\":{\"field\":\"x\"},\"y\":{\"field\":\"y\"}},\"id\":\"1056\",\"type\":\"Line\"},{\"attributes\":{},\"id\":\"1023\",\"type\":\"WheelZoomTool\"},{\"attributes\":{\"label\":{\"value\":\"CS\"},\"renderers\":[{\"id\":\"1040\"}]},\"id\":\"1053\",\"type\":\"LegendItem\"},{\"attributes\":{},\"id\":\"1022\",\"type\":\"PanTool\"},{\"attributes\":{},\"id\":\"1006\",\"type\":\"DataRange1d\"},{\"attributes\":{\"axis\":{\"id\":\"1018\"},\"coordinates\":null,\"dimension\":1,\"group\":null,\"ticker\":null},\"id\":\"1021\",\"type\":\"Grid\"},{\"attributes\":{},\"id\":\"1012\",\"type\":\"LinearScale\"},{\"attributes\":{},\"id\":\"1044\",\"type\":\"BasicTickFormatter\"},{\"attributes\":{\"line_alpha\":0.2,\"line_color\":\"green\",\"x\":{\"field\":\"x\"},\"y\":{\"field\":\"y\"}},\"id\":\"1057\",\"type\":\"Line\"},{\"attributes\":{\"coordinates\":null,\"data_source\":{\"id\":\"1036\"},\"glyph\":{\"id\":\"1037\"},\"group\":null,\"hover_glyph\":null,\"muted_glyph\":{\"id\":\"1039\"},\"nonselection_glyph\":{\"id\":\"1038\"},\"view\":{\"id\":\"1041\"}},\"id\":\"1040\",\"type\":\"GlyphRenderer\"},{\"attributes\":{},\"id\":\"1049\",\"type\":\"UnionRenderers\"},{\"attributes\":{},\"id\":\"1025\",\"type\":\"SaveTool\"},{\"attributes\":{\"coordinates\":null,\"group\":null,\"text\":\"CS vs Non-CS Women Percentage\"},\"id\":\"1004\",\"type\":\"Title\"},{\"attributes\":{\"coordinates\":null,\"group\":null,\"items\":[{\"id\":\"1053\"},{\"id\":\"1072\"}],\"location\":\"center\"},\"id\":\"1052\",\"type\":\"Legend\"},{\"attributes\":{\"coordinates\":null,\"formatter\":{\"id\":\"1047\"},\"group\":null,\"major_label_policy\":{\"id\":\"1048\"},\"ticker\":{\"id\":\"1015\"}},\"id\":\"1014\",\"type\":\"LinearAxis\"},{\"attributes\":{\"source\":{\"id\":\"1054\"}},\"id\":\"1059\",\"type\":\"CDSView\"},{\"attributes\":{\"coordinates\":null,\"data_source\":{\"id\":\"1054\"},\"glyph\":{\"id\":\"1055\"},\"group\":null,\"hover_glyph\":null,\"muted_glyph\":{\"id\":\"1057\"},\"nonselection_glyph\":{\"id\":\"1056\"},\"view\":{\"id\":\"1059\"}},\"id\":\"1058\",\"type\":\"GlyphRenderer\"},{\"attributes\":{\"line_alpha\":0.1,\"line_color\":\"blue\",\"x\":{\"field\":\"x\"},\"y\":{\"field\":\"y\"}},\"id\":\"1038\",\"type\":\"Line\"},{\"attributes\":{},\"id\":\"1010\",\"type\":\"LinearScale\"},{\"attributes\":{},\"id\":\"1047\",\"type\":\"BasicTickFormatter\"},{\"attributes\":{},\"id\":\"1026\",\"type\":\"ResetTool\"},{\"attributes\":{},\"id\":\"1070\",\"type\":\"Selection\"},{\"attributes\":{\"label\":{\"value\":\"Non-CS\"},\"renderers\":[{\"id\":\"1058\"}]},\"id\":\"1072\",\"type\":\"LegendItem\"},{\"attributes\":{\"bottom_units\":\"screen\",\"coordinates\":null,\"fill_alpha\":0.5,\"fill_color\":\"lightgrey\",\"group\":null,\"left_units\":\"screen\",\"level\":\"overlay\",\"line_alpha\":1.0,\"line_color\":\"black\",\"line_dash\":[4,4],\"line_width\":2,\"right_units\":\"screen\",\"syncable\":false,\"top_units\":\"screen\"},\"id\":\"1028\",\"type\":\"BoxAnnotation\"},{\"attributes\":{},\"id\":\"1048\",\"type\":\"AllLabels\"},{\"attributes\":{},\"id\":\"1027\",\"type\":\"HelpTool\"},{\"attributes\":{\"tools\":[{\"id\":\"1022\"},{\"id\":\"1023\"},{\"id\":\"1024\"},{\"id\":\"1025\"},{\"id\":\"1026\"},{\"id\":\"1027\"}]},\"id\":\"1029\",\"type\":\"Toolbar\"},{\"attributes\":{\"line_alpha\":0.2,\"line_color\":\"blue\",\"x\":{\"field\":\"x\"},\"y\":{\"field\":\"y\"}},\"id\":\"1039\",\"type\":\"Line\"},{\"attributes\":{},\"id\":\"1019\",\"type\":\"BasicTicker\"}],\"root_ids\":[\"1003\"]},\"title\":\"Bokeh Application\",\"version\":\"2.4.3\"}};\n  const render_items = [{\"docid\":\"49b420cd-415a-4646-b6f4-44f1a4e76ac0\",\"root_ids\":[\"1003\"],\"roots\":{\"1003\":\"9f67f6ae-898b-4ad8-b43b-5aaec0a8f57b\"}}];\n  root.Bokeh.embed.embed_items_notebook(docs_json, render_items);\n  }\n  if (root.Bokeh !== undefined) {\n    embed_document(root);\n  } else {\n    let attempts = 0;\n    const timer = setInterval(function(root) {\n      if (root.Bokeh !== undefined) {\n        clearInterval(timer);\n        embed_document(root);\n      } else {\n        attempts++;\n        if (attempts > 100) {\n          clearInterval(timer);\n          console.log(\"Bokeh: ERROR: Unable to run BokehJS code because BokehJS library is missing\");\n        }\n      }\n    }, 10, root)\n  }\n})(window);",
      "application/vnd.bokehjs_exec.v0+json": ""
     },
     "metadata": {
      "application/vnd.bokehjs_exec.v0+json": {
       "id": "1003"
      }
     },
     "output_type": "display_data"
    },
    {
     "data": {
      "text/html": [
       "\n",
       "  <div class=\"bk-root\" id=\"eba64fe9-0cb1-4126-8c12-f4416f930f2d\" data-root-id=\"1145\"></div>\n"
      ]
     },
     "metadata": {},
     "output_type": "display_data"
    },
    {
     "data": {
      "application/javascript": "(function(root) {\n  function embed_document(root) {\n  const docs_json = {\"47998f57-81ec-460f-8bb7-0ecf23216a1e\":{\"defs\":[],\"roots\":{\"references\":[{\"attributes\":{\"below\":[{\"id\":\"1156\"}],\"center\":[{\"id\":\"1159\"},{\"id\":\"1163\"},{\"id\":\"1194\"}],\"height\":400,\"left\":[{\"id\":\"1160\"}],\"renderers\":[{\"id\":\"1182\"},{\"id\":\"1200\"}],\"right\":[{\"id\":\"1194\"}],\"title\":{\"id\":\"1146\"},\"toolbar\":{\"id\":\"1171\"},\"width\":800,\"x_range\":{\"id\":\"1148\"},\"x_scale\":{\"id\":\"1152\"},\"y_range\":{\"id\":\"1150\"},\"y_scale\":{\"id\":\"1154\"}},\"id\":\"1145\",\"subtype\":\"Figure\",\"type\":\"Plot\"},{\"attributes\":{},\"id\":\"1191\",\"type\":\"UnionRenderers\"},{\"attributes\":{\"data\":{\"x\":[2011,2012,2013,2014,2015,2016,2017,2018,2019,2020,2021],\"y\":[875996,908272,910964,931912,949478,943322,950994,956826,968820,961604,998082]},\"selected\":{\"id\":\"1212\"},\"selection_policy\":{\"id\":\"1211\"}},\"id\":\"1196\",\"type\":\"ColumnDataSource\"},{\"attributes\":{\"coordinates\":null,\"data_source\":{\"id\":\"1196\"},\"glyph\":{\"id\":\"1197\"},\"group\":null,\"hover_glyph\":null,\"muted_glyph\":{\"id\":\"1199\"},\"nonselection_glyph\":{\"id\":\"1198\"},\"view\":{\"id\":\"1201\"}},\"id\":\"1200\",\"type\":\"GlyphRenderer\"},{\"attributes\":{},\"id\":\"1192\",\"type\":\"Selection\"},{\"attributes\":{\"coordinates\":null,\"group\":null,\"text\":\"CS vs Non-CS Black Percentage\"},\"id\":\"1146\",\"type\":\"Title\"},{\"attributes\":{},\"id\":\"1152\",\"type\":\"LinearScale\"},{\"attributes\":{},\"id\":\"1186\",\"type\":\"BasicTickFormatter\"},{\"attributes\":{\"coordinates\":null,\"formatter\":{\"id\":\"1189\"},\"group\":null,\"major_label_policy\":{\"id\":\"1190\"},\"ticker\":{\"id\":\"1157\"}},\"id\":\"1156\",\"type\":\"LinearAxis\"},{\"attributes\":{},\"id\":\"1169\",\"type\":\"HelpTool\"},{\"attributes\":{\"line_alpha\":0.2,\"line_color\":\"green\",\"x\":{\"field\":\"x\"},\"y\":{\"field\":\"y\"}},\"id\":\"1199\",\"type\":\"Line\"},{\"attributes\":{\"axis\":{\"id\":\"1160\"},\"coordinates\":null,\"dimension\":1,\"group\":null,\"ticker\":null},\"id\":\"1163\",\"type\":\"Grid\"},{\"attributes\":{},\"id\":\"1187\",\"type\":\"AllLabels\"},{\"attributes\":{\"line_alpha\":0.1,\"line_color\":\"green\",\"x\":{\"field\":\"x\"},\"y\":{\"field\":\"y\"}},\"id\":\"1198\",\"type\":\"Line\"},{\"attributes\":{\"coordinates\":null,\"data_source\":{\"id\":\"1178\"},\"glyph\":{\"id\":\"1179\"},\"group\":null,\"hover_glyph\":null,\"muted_glyph\":{\"id\":\"1181\"},\"nonselection_glyph\":{\"id\":\"1180\"},\"view\":{\"id\":\"1183\"}},\"id\":\"1182\",\"type\":\"GlyphRenderer\"},{\"attributes\":{\"source\":{\"id\":\"1196\"}},\"id\":\"1201\",\"type\":\"CDSView\"},{\"attributes\":{\"line_color\":\"green\",\"x\":{\"field\":\"x\"},\"y\":{\"field\":\"y\"}},\"id\":\"1197\",\"type\":\"Line\"},{\"attributes\":{\"label\":{\"value\":\"Non-CS\"},\"renderers\":[{\"id\":\"1200\"}]},\"id\":\"1214\",\"type\":\"LegendItem\"},{\"attributes\":{},\"id\":\"1211\",\"type\":\"UnionRenderers\"},{\"attributes\":{},\"id\":\"1189\",\"type\":\"BasicTickFormatter\"},{\"attributes\":{},\"id\":\"1212\",\"type\":\"Selection\"},{\"attributes\":{},\"id\":\"1190\",\"type\":\"AllLabels\"},{\"attributes\":{},\"id\":\"1148\",\"type\":\"DataRange1d\"},{\"attributes\":{\"line_color\":\"blue\",\"x\":{\"field\":\"x\"},\"y\":{\"field\":\"y\"}},\"id\":\"1179\",\"type\":\"Line\"},{\"attributes\":{},\"id\":\"1168\",\"type\":\"ResetTool\"},{\"attributes\":{},\"id\":\"1154\",\"type\":\"LinearScale\"},{\"attributes\":{\"source\":{\"id\":\"1178\"}},\"id\":\"1183\",\"type\":\"CDSView\"},{\"attributes\":{},\"id\":\"1167\",\"type\":\"SaveTool\"},{\"attributes\":{\"coordinates\":null,\"formatter\":{\"id\":\"1186\"},\"group\":null,\"major_label_policy\":{\"id\":\"1187\"},\"ticker\":{\"id\":\"1161\"}},\"id\":\"1160\",\"type\":\"LinearAxis\"},{\"attributes\":{\"overlay\":{\"id\":\"1170\"}},\"id\":\"1166\",\"type\":\"BoxZoomTool\"},{\"attributes\":{\"bottom_units\":\"screen\",\"coordinates\":null,\"fill_alpha\":0.5,\"fill_color\":\"lightgrey\",\"group\":null,\"left_units\":\"screen\",\"level\":\"overlay\",\"line_alpha\":1.0,\"line_color\":\"black\",\"line_dash\":[4,4],\"line_width\":2,\"right_units\":\"screen\",\"syncable\":false,\"top_units\":\"screen\"},\"id\":\"1170\",\"type\":\"BoxAnnotation\"},{\"attributes\":{\"line_alpha\":0.1,\"line_color\":\"blue\",\"x\":{\"field\":\"x\"},\"y\":{\"field\":\"y\"}},\"id\":\"1180\",\"type\":\"Line\"},{\"attributes\":{},\"id\":\"1164\",\"type\":\"PanTool\"},{\"attributes\":{\"line_alpha\":0.2,\"line_color\":\"blue\",\"x\":{\"field\":\"x\"},\"y\":{\"field\":\"y\"}},\"id\":\"1181\",\"type\":\"Line\"},{\"attributes\":{\"label\":{\"value\":\"CS\"},\"renderers\":[{\"id\":\"1182\"}]},\"id\":\"1195\",\"type\":\"LegendItem\"},{\"attributes\":{\"coordinates\":null,\"group\":null,\"items\":[{\"id\":\"1195\"},{\"id\":\"1214\"}],\"location\":\"center\"},\"id\":\"1194\",\"type\":\"Legend\"},{\"attributes\":{},\"id\":\"1165\",\"type\":\"WheelZoomTool\"},{\"attributes\":{\"tools\":[{\"id\":\"1164\"},{\"id\":\"1165\"},{\"id\":\"1166\"},{\"id\":\"1167\"},{\"id\":\"1168\"},{\"id\":\"1169\"}]},\"id\":\"1171\",\"type\":\"Toolbar\"},{\"attributes\":{},\"id\":\"1150\",\"type\":\"DataRange1d\"},{\"attributes\":{\"data\":{\"x\":[2011,2012,2013,2014,2015,2016,2017,2018,2019,2020,2021],\"y\":[16668,16416,17828,18940,19133,17204,17997,19302,20687,22175,24971]},\"selected\":{\"id\":\"1192\"},\"selection_policy\":{\"id\":\"1191\"}},\"id\":\"1178\",\"type\":\"ColumnDataSource\"},{\"attributes\":{\"axis\":{\"id\":\"1156\"},\"coordinates\":null,\"group\":null,\"ticker\":null},\"id\":\"1159\",\"type\":\"Grid\"},{\"attributes\":{},\"id\":\"1161\",\"type\":\"BasicTicker\"},{\"attributes\":{},\"id\":\"1157\",\"type\":\"BasicTicker\"}],\"root_ids\":[\"1145\"]},\"title\":\"Bokeh Application\",\"version\":\"2.4.3\"}};\n  const render_items = [{\"docid\":\"47998f57-81ec-460f-8bb7-0ecf23216a1e\",\"root_ids\":[\"1145\"],\"roots\":{\"1145\":\"eba64fe9-0cb1-4126-8c12-f4416f930f2d\"}}];\n  root.Bokeh.embed.embed_items_notebook(docs_json, render_items);\n  }\n  if (root.Bokeh !== undefined) {\n    embed_document(root);\n  } else {\n    let attempts = 0;\n    const timer = setInterval(function(root) {\n      if (root.Bokeh !== undefined) {\n        clearInterval(timer);\n        embed_document(root);\n      } else {\n        attempts++;\n        if (attempts > 100) {\n          clearInterval(timer);\n          console.log(\"Bokeh: ERROR: Unable to run BokehJS code because BokehJS library is missing\");\n        }\n      }\n    }, 10, root)\n  }\n})(window);",
      "application/vnd.bokehjs_exec.v0+json": ""
     },
     "metadata": {
      "application/vnd.bokehjs_exec.v0+json": {
       "id": "1145"
      }
     },
     "output_type": "display_data"
    },
    {
     "data": {
      "text/html": [
       "\n",
       "  <div class=\"bk-root\" id=\"7e344a2d-ca22-464f-b843-6ecd9e886202\" data-root-id=\"1299\"></div>\n"
      ]
     },
     "metadata": {},
     "output_type": "display_data"
    },
    {
     "data": {
      "application/javascript": "(function(root) {\n  function embed_document(root) {\n  const docs_json = {\"a01e2cae-2834-471e-8bc2-d66849384227\":{\"defs\":[],\"roots\":{\"references\":[{\"attributes\":{\"below\":[{\"id\":\"1310\"}],\"center\":[{\"id\":\"1313\"},{\"id\":\"1317\"},{\"id\":\"1348\"}],\"height\":400,\"left\":[{\"id\":\"1314\"}],\"renderers\":[{\"id\":\"1336\"},{\"id\":\"1354\"}],\"right\":[{\"id\":\"1348\"}],\"title\":{\"id\":\"1300\"},\"toolbar\":{\"id\":\"1325\"},\"width\":800,\"x_range\":{\"id\":\"1302\"},\"x_scale\":{\"id\":\"1306\"},\"y_range\":{\"id\":\"1304\"},\"y_scale\":{\"id\":\"1308\"}},\"id\":\"1299\",\"subtype\":\"Figure\",\"type\":\"Plot\"},{\"attributes\":{},\"id\":\"1304\",\"type\":\"DataRange1d\"},{\"attributes\":{},\"id\":\"1306\",\"type\":\"LinearScale\"},{\"attributes\":{\"source\":{\"id\":\"1332\"}},\"id\":\"1337\",\"type\":\"CDSView\"},{\"attributes\":{\"data\":{\"x\":[2011,2012,2013,2014,2015,2016,2017,2018,2019,2020,2021],\"y\":[815464,908978,981174,1058476,1133178,1227810,1318566,1424438,1540884,1603114,1685860]},\"selected\":{\"id\":\"1366\"},\"selection_policy\":{\"id\":\"1365\"}},\"id\":\"1350\",\"type\":\"ColumnDataSource\"},{\"attributes\":{\"coordinates\":null,\"data_source\":{\"id\":\"1350\"},\"glyph\":{\"id\":\"1351\"},\"group\":null,\"hover_glyph\":null,\"muted_glyph\":{\"id\":\"1353\"},\"nonselection_glyph\":{\"id\":\"1352\"},\"view\":{\"id\":\"1355\"}},\"id\":\"1354\",\"type\":\"GlyphRenderer\"},{\"attributes\":{\"line_alpha\":0.1,\"line_color\":\"blue\",\"x\":{\"field\":\"x\"},\"y\":{\"field\":\"y\"}},\"id\":\"1334\",\"type\":\"Line\"},{\"attributes\":{\"line_color\":\"blue\",\"x\":{\"field\":\"x\"},\"y\":{\"field\":\"y\"}},\"id\":\"1333\",\"type\":\"Line\"},{\"attributes\":{},\"id\":\"1311\",\"type\":\"BasicTicker\"},{\"attributes\":{},\"id\":\"1346\",\"type\":\"Selection\"},{\"attributes\":{\"label\":{\"value\":\"CS\"},\"renderers\":[{\"id\":\"1336\"}]},\"id\":\"1349\",\"type\":\"LegendItem\"},{\"attributes\":{\"line_alpha\":0.2,\"line_color\":\"green\",\"x\":{\"field\":\"x\"},\"y\":{\"field\":\"y\"}},\"id\":\"1353\",\"type\":\"Line\"},{\"attributes\":{},\"id\":\"1323\",\"type\":\"HelpTool\"},{\"attributes\":{\"axis\":{\"id\":\"1310\"},\"coordinates\":null,\"group\":null,\"ticker\":null},\"id\":\"1313\",\"type\":\"Grid\"},{\"attributes\":{\"coordinates\":null,\"group\":null,\"items\":[{\"id\":\"1349\"},{\"id\":\"1368\"}],\"location\":\"center\"},\"id\":\"1348\",\"type\":\"Legend\"},{\"attributes\":{\"coordinates\":null,\"formatter\":{\"id\":\"1343\"},\"group\":null,\"major_label_policy\":{\"id\":\"1344\"},\"ticker\":{\"id\":\"1311\"}},\"id\":\"1310\",\"type\":\"LinearAxis\"},{\"attributes\":{\"line_alpha\":0.1,\"line_color\":\"green\",\"x\":{\"field\":\"x\"},\"y\":{\"field\":\"y\"}},\"id\":\"1352\",\"type\":\"Line\"},{\"attributes\":{\"coordinates\":null,\"group\":null,\"text\":\"CS vs Non-CS Hispanic Percentage\"},\"id\":\"1300\",\"type\":\"Title\"},{\"attributes\":{\"coordinates\":null,\"formatter\":{\"id\":\"1340\"},\"group\":null,\"major_label_policy\":{\"id\":\"1341\"},\"ticker\":{\"id\":\"1315\"}},\"id\":\"1314\",\"type\":\"LinearAxis\"},{\"attributes\":{\"source\":{\"id\":\"1350\"}},\"id\":\"1355\",\"type\":\"CDSView\"},{\"attributes\":{\"line_color\":\"green\",\"x\":{\"field\":\"x\"},\"y\":{\"field\":\"y\"}},\"id\":\"1351\",\"type\":\"Line\"},{\"attributes\":{},\"id\":\"1315\",\"type\":\"BasicTicker\"},{\"attributes\":{\"label\":{\"value\":\"Non-CS\"},\"renderers\":[{\"id\":\"1354\"}]},\"id\":\"1368\",\"type\":\"LegendItem\"},{\"attributes\":{\"axis\":{\"id\":\"1314\"},\"coordinates\":null,\"dimension\":1,\"group\":null,\"ticker\":null},\"id\":\"1317\",\"type\":\"Grid\"},{\"attributes\":{},\"id\":\"1308\",\"type\":\"LinearScale\"},{\"attributes\":{},\"id\":\"1365\",\"type\":\"UnionRenderers\"},{\"attributes\":{\"coordinates\":null,\"data_source\":{\"id\":\"1332\"},\"glyph\":{\"id\":\"1333\"},\"group\":null,\"hover_glyph\":null,\"muted_glyph\":{\"id\":\"1335\"},\"nonselection_glyph\":{\"id\":\"1334\"},\"view\":{\"id\":\"1337\"}},\"id\":\"1336\",\"type\":\"GlyphRenderer\"},{\"attributes\":{\"tools\":[{\"id\":\"1318\"},{\"id\":\"1319\"},{\"id\":\"1320\"},{\"id\":\"1321\"},{\"id\":\"1322\"},{\"id\":\"1323\"}]},\"id\":\"1325\",\"type\":\"Toolbar\"},{\"attributes\":{},\"id\":\"1340\",\"type\":\"BasicTickFormatter\"},{\"attributes\":{},\"id\":\"1319\",\"type\":\"WheelZoomTool\"},{\"attributes\":{},\"id\":\"1366\",\"type\":\"Selection\"},{\"attributes\":{},\"id\":\"1318\",\"type\":\"PanTool\"},{\"attributes\":{},\"id\":\"1341\",\"type\":\"AllLabels\"},{\"attributes\":{\"overlay\":{\"id\":\"1324\"}},\"id\":\"1320\",\"type\":\"BoxZoomTool\"},{\"attributes\":{},\"id\":\"1321\",\"type\":\"SaveTool\"},{\"attributes\":{\"data\":{\"x\":[2011,2012,2013,2014,2015,2016,2017,2018,2019,2020,2021],\"y\":[12269,13347,14743,16132,17415,17616,19487,21364,23436,25737,28318]},\"selected\":{\"id\":\"1346\"},\"selection_policy\":{\"id\":\"1345\"}},\"id\":\"1332\",\"type\":\"ColumnDataSource\"},{\"attributes\":{},\"id\":\"1322\",\"type\":\"ResetTool\"},{\"attributes\":{},\"id\":\"1343\",\"type\":\"BasicTickFormatter\"},{\"attributes\":{},\"id\":\"1344\",\"type\":\"AllLabels\"},{\"attributes\":{\"bottom_units\":\"screen\",\"coordinates\":null,\"fill_alpha\":0.5,\"fill_color\":\"lightgrey\",\"group\":null,\"left_units\":\"screen\",\"level\":\"overlay\",\"line_alpha\":1.0,\"line_color\":\"black\",\"line_dash\":[4,4],\"line_width\":2,\"right_units\":\"screen\",\"syncable\":false,\"top_units\":\"screen\"},\"id\":\"1324\",\"type\":\"BoxAnnotation\"},{\"attributes\":{\"line_alpha\":0.2,\"line_color\":\"blue\",\"x\":{\"field\":\"x\"},\"y\":{\"field\":\"y\"}},\"id\":\"1335\",\"type\":\"Line\"},{\"attributes\":{},\"id\":\"1345\",\"type\":\"UnionRenderers\"},{\"attributes\":{},\"id\":\"1302\",\"type\":\"DataRange1d\"}],\"root_ids\":[\"1299\"]},\"title\":\"Bokeh Application\",\"version\":\"2.4.3\"}};\n  const render_items = [{\"docid\":\"a01e2cae-2834-471e-8bc2-d66849384227\",\"root_ids\":[\"1299\"],\"roots\":{\"1299\":\"7e344a2d-ca22-464f-b843-6ecd9e886202\"}}];\n  root.Bokeh.embed.embed_items_notebook(docs_json, render_items);\n  }\n  if (root.Bokeh !== undefined) {\n    embed_document(root);\n  } else {\n    let attempts = 0;\n    const timer = setInterval(function(root) {\n      if (root.Bokeh !== undefined) {\n        clearInterval(timer);\n        embed_document(root);\n      } else {\n        attempts++;\n        if (attempts > 100) {\n          clearInterval(timer);\n          console.log(\"Bokeh: ERROR: Unable to run BokehJS code because BokehJS library is missing\");\n        }\n      }\n    }, 10, root)\n  }\n})(window);",
      "application/vnd.bokehjs_exec.v0+json": ""
     },
     "metadata": {
      "application/vnd.bokehjs_exec.v0+json": {
       "id": "1299"
      }
     },
     "output_type": "display_data"
    }
   ],
   "source": [
    "run()"
   ]
  }
 ],
 "metadata": {
  "kernelspec": {
   "display_name": "base",
   "language": "python",
   "name": "python3"
  },
  "language_info": {
   "codemirror_mode": {
    "name": "ipython",
    "version": 3
   },
   "file_extension": ".py",
   "mimetype": "text/x-python",
   "name": "python",
   "nbconvert_exporter": "python",
   "pygments_lexer": "ipython3",
   "version": "3.9.13"
  },
  "orig_nbformat": 4
 },
 "nbformat": 4,
 "nbformat_minor": 2
}
